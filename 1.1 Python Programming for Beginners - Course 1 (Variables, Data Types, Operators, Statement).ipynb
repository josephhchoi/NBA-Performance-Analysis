{
  "nbformat": 4,
  "nbformat_minor": 0,
  "metadata": {
    "colab": {
      "provenance": [],
      "collapsed_sections": [
        "hylKDye6fTq3",
        "VYQ-do56qGRC",
        "xHif8J7dGj8W",
        "wbgIHarbMLWn",
        "IYB5_q9va34s"
      ]
    },
    "kernelspec": {
      "name": "python3",
      "display_name": "Python 3"
    },
    "language_info": {
      "name": "python"
    }
  },
  "cells": [
    {
      "cell_type": "markdown",
      "source": [
        "# Analyst Builder: Python Programming for Beginners - Course 1"
      ],
      "metadata": {
        "id": "x3Fa7ZdN1aot"
      }
    },
    {
      "cell_type": "markdown",
      "source": [
        "## 1.0 Introduction:\n"
      ],
      "metadata": {
        "id": "hylKDye6fTq3"
      }
    },
    {
      "cell_type": "markdown",
      "source": [
        "### 1.1 What is Python?\n",
        "- General purpose programming language (versatile)\n",
        "- Interpreted language instead of compiled language:\n",
        "  - An interpreted language executes code line-by-line at runtime, while a compiled language translates the entire code into machine language before running it.\n",
        "- Object-oriented programming language (OOP)\n",
        "- Open-sourced and free to use"
      ],
      "metadata": {
        "id": "xDTYhKj-g_f8"
      }
    },
    {
      "cell_type": "markdown",
      "source": [
        "### 1.2 What is Python used for?\n",
        "\n",
        "**Data Analysis/Science**:\n",
        "- Perform complex statistical calculations\n",
        "- Create data visualization\n",
        "- Build machine learning algorithms\n",
        "- Manipulate and analyze data\n",
        "- **Packages**: Pandas, Matplotlib, Seaborn, Scikit-learn, Tensorflow, Keras\n",
        "\n",
        "**Web Development**:\n",
        "- Used to build the front-end or back-end of websites\n",
        "- **Front End**: Managing interactions with web servers, fetching data, and displaying it in the web application\n",
        "- **Back End**: Storing, retrieving, and formatting data in an agreed-upon format so that the data can be parsed and understood by other apps\n",
        "- The back end provides data, and the front end shows it to users in a web app\n",
        "- **Web Development Framework**: Django, Flask\n",
        "\n",
        "**Automation & Scripting**:\n",
        "- Creating a script to automatically do a task or process for you instead of doing it manually\n",
        "- If you find yourself performing a task repeatedly, you could work more efficiently by automating it with Python\n",
        "- **Python Packages**: Selenium (automating web pulls), googlesearch (automating web search), csv module/OS (automating file processing)\n",
        "\n",
        "**Software/Automation Testing**:\n",
        "- Python can aid in tasks like build control, bug tracking, and testing\n",
        "- Reusuable test scripts are developed to test the app functionality, thus reducing the overall regression time and helping with faster software releases\n",
        "- Leveraging test automation reduces regression time and quality releases within the testing life cycle\n",
        "- **Frameworks**: PyUnit, Unittestm PyTest, Behave, Robot"
      ],
      "metadata": {
        "id": "5p8oriwchi0G"
      }
    },
    {
      "cell_type": "markdown",
      "source": [
        "## 2.0 Variables:"
      ],
      "metadata": {
        "id": "VYQ-do56qGRC"
      }
    },
    {
      "cell_type": "markdown",
      "source": [
        "### 2.1 What is a Variable?\n",
        "- Named location used to store data in memory (Containers for storing data objects)\n",
        "- Can hold different types of values such as numbers, strings, lists, tuples, dictionaries, etc.\n",
        "- Use the equal sign (=) to assign a value to a variable (a = 10)\n",
        "- **Variables in Memory**: Calling a variable reads the address of a variable and ouputs the data stored in that location\n",
        "- When a variable is no longer needed, Python's garbage collector will eventually reclaim the memory it occupies, so you don't need to worry about deallocating memory yourself"
      ],
      "metadata": {
        "id": "WJ0mDo4PqXl7"
      }
    },
    {
      "cell_type": "markdown",
      "source": [
        "### 2.2 Variables + Expressions"
      ],
      "metadata": {
        "id": "XQfPE5jiqXpH"
      }
    },
    {
      "cell_type": "code",
      "source": [
        "# x is the variable\n",
        "# 5 is the expression\n",
        "x = 5"
      ],
      "metadata": {
        "id": "yBXNuffFfYAh"
      },
      "execution_count": null,
      "outputs": []
    },
    {
      "cell_type": "code",
      "source": [
        "# Calling the expression using a variable version 1\n",
        "  # x stored 5, therefore, the output of print(x) is 5\n",
        "print(x)"
      ],
      "metadata": {
        "colab": {
          "base_uri": "https://localhost:8080/"
        },
        "id": "qhtEcD5ByTJw",
        "outputId": "364553e3-1b5e-4fbb-9c68-2279b4c2d92d"
      },
      "execution_count": null,
      "outputs": [
        {
          "output_type": "stream",
          "name": "stdout",
          "text": [
            "5\n"
          ]
        }
      ]
    },
    {
      "cell_type": "code",
      "source": [
        "# Calling the expression using a variable version 2\n",
        "x"
      ],
      "metadata": {
        "colab": {
          "base_uri": "https://localhost:8080/"
        },
        "id": "YvAKv6biyTN3",
        "outputId": "d2eeb604-1d10-4fc8-bc71-29a816e68475"
      },
      "execution_count": null,
      "outputs": [
        {
          "output_type": "execute_result",
          "data": {
            "text/plain": [
              "5"
            ]
          },
          "metadata": {},
          "execution_count": 4
        }
      ]
    },
    {
      "cell_type": "code",
      "source": [
        "# No need to declare the data type prior as Python already knows and dictates what data type the expression\n",
        "type(x)"
      ],
      "metadata": {
        "colab": {
          "base_uri": "https://localhost:8080/"
        },
        "id": "pUIlm38oyTR9",
        "outputId": "28439142-37f7-4e64-edd5-b2adc6ef809c"
      },
      "execution_count": null,
      "outputs": [
        {
          "output_type": "execute_result",
          "data": {
            "text/plain": [
              "int"
            ]
          },
          "metadata": {},
          "execution_count": 6
        }
      ]
    },
    {
      "cell_type": "code",
      "source": [
        "# 'Hello Earth' is the output as the 2nd row overwrites the previous row\n",
        "y = 'Hello World!!!'\n",
        "y = 'Hello Earth'\n",
        "\n",
        "print(y)"
      ],
      "metadata": {
        "id": "PpSnXxuTyTWL"
      },
      "execution_count": null,
      "outputs": []
    },
    {
      "cell_type": "markdown",
      "source": [
        "### 2.3 Assigning Multiple Values + Concatenation\n"
      ],
      "metadata": {
        "id": "aOFBlkwi0kuu"
      }
    },
    {
      "cell_type": "code",
      "source": [
        "# Version 1: Assigning multiple values\n",
        "  # Data type: str\n",
        "\n",
        "x = 'Chocolate'\n",
        "y = 'Vanilla'\n",
        "z = 'Strawberry'\n",
        "\n",
        "print(x)\n",
        "print(y)\n",
        "print(z)"
      ],
      "metadata": {
        "colab": {
          "base_uri": "https://localhost:8080/"
        },
        "id": "HziNziu1zNcX",
        "outputId": "4f253654-94ba-41dd-ecca-0245f1098acf"
      },
      "execution_count": null,
      "outputs": [
        {
          "output_type": "stream",
          "name": "stdout",
          "text": [
            "Chocolate\n",
            "Vanilla\n",
            "Strawberry\n"
          ]
        }
      ]
    },
    {
      "cell_type": "code",
      "source": [
        "# Version 2: Assigning multiple values\n",
        "  # Data type: str\n",
        "\n",
        "x, y, z = 'Chocolate', 'Vanilla', 'Strawberry'\n",
        "\n",
        "print(x, y, z)"
      ],
      "metadata": {
        "colab": {
          "base_uri": "https://localhost:8080/"
        },
        "id": "gNhO_seG0rvh",
        "outputId": "a7484572-3581-418f-b1aa-4e8b1bfb247b"
      },
      "execution_count": null,
      "outputs": [
        {
          "output_type": "stream",
          "name": "stdout",
          "text": [
            "Chocolate Vanilla Strawberry\n"
          ]
        }
      ]
    },
    {
      "cell_type": "code",
      "source": [
        "# Version 3: Assigning multiple values (tuple)\n",
        "  # Data type: tuple\n",
        "  # Tuple: stores multiple values, defined using parentheses. Can't change these values later (immutable)\n",
        "\n",
        "x = 'Chocolate', 'Vanilla', 'Strawberry'\n",
        "\n",
        "print(x)"
      ],
      "metadata": {
        "colab": {
          "base_uri": "https://localhost:8080/"
        },
        "id": "vipz5IIs0ryJ",
        "outputId": "f144b814-285b-46bd-f808-8a844642de3e"
      },
      "execution_count": null,
      "outputs": [
        {
          "output_type": "stream",
          "name": "stdout",
          "text": [
            "('Chocolate', 'Vanilla', 'Strawberry')\n"
          ]
        }
      ]
    },
    {
      "cell_type": "code",
      "source": [
        "# Version 4: Assigning multiple values\n",
        "\n",
        "x = y = z = 'Pistachio Cream'\n",
        "\n",
        "print(x)\n",
        "print(y)\n",
        "print(z)"
      ],
      "metadata": {
        "colab": {
          "base_uri": "https://localhost:8080/"
        },
        "id": "GUPaWpAm0r0-",
        "outputId": "82468798-5e1c-4c0f-e08b-b3d00444f0fb"
      },
      "execution_count": null,
      "outputs": [
        {
          "output_type": "stream",
          "name": "stdout",
          "text": [
            "Pistachio Cream\n",
            "Pistachio Cream\n",
            "Pistachio Cream\n"
          ]
        }
      ]
    },
    {
      "cell_type": "code",
      "source": [
        "# Version 5: Assigning multiple values (list)\n",
        "  # Data type: list\n",
        "  # List: Mutable collection of values defined by square brackets\n",
        "\n",
        "main_berries  = ['Strawberry', 'Blueberry', 'Rasberry', 11]"
      ],
      "metadata": {
        "id": "fi7d3pR7zNgn"
      },
      "execution_count": null,
      "outputs": []
    },
    {
      "cell_type": "code",
      "source": [
        "# Unpacking the 'main_berries' list in 4 variables\n",
        "\n",
        "x, y, z, z1 = main_berries\n",
        "\n",
        "print(x)\n",
        "print(y)\n",
        "print(z)\n",
        "print(z1)"
      ],
      "metadata": {
        "colab": {
          "base_uri": "https://localhost:8080/"
        },
        "id": "NX4KwO0g2uH1",
        "outputId": "1777d2d5-8cb8-4041-f84e-d727e8b02b33"
      },
      "execution_count": null,
      "outputs": [
        {
          "output_type": "stream",
          "name": "stdout",
          "text": [
            "Strawberry\n",
            "Blueberry\n",
            "Rasberry\n",
            "11\n"
          ]
        }
      ]
    },
    {
      "cell_type": "code",
      "source": [
        "# Version 1: Concatenate\n",
        "  # Only works on string\n",
        "\n",
        "x = 'I love the number '\n",
        "y = '11'\n",
        "\n",
        "print(x + y)"
      ],
      "metadata": {
        "colab": {
          "base_uri": "https://localhost:8080/"
        },
        "id": "xS2UDLKY2uKv",
        "outputId": "12bb3f0c-b5fb-4cee-c23b-93e8d7bed45e"
      },
      "execution_count": null,
      "outputs": [
        {
          "output_type": "stream",
          "name": "stdout",
          "text": [
            "I love the number11\n"
          ]
        }
      ]
    },
    {
      "cell_type": "code",
      "source": [
        "# Version 2: Combining\n",
        "  # Combining values works for any data types\n",
        "\n",
        "x = 'I love the number '\n",
        "y = 11\n",
        "\n",
        "print(x, y)"
      ],
      "metadata": {
        "colab": {
          "base_uri": "https://localhost:8080/"
        },
        "id": "I4u3wni42uNh",
        "outputId": "ddcb3e45-ad39-4732-9b81-93e1a3cf6c06"
      },
      "execution_count": null,
      "outputs": [
        {
          "output_type": "stream",
          "name": "stdout",
          "text": [
            "I love the number  11\n"
          ]
        }
      ]
    },
    {
      "cell_type": "markdown",
      "source": [
        "### 2.4 Variable Naming Best Practices"
      ],
      "metadata": {
        "id": "iOHzFmkk65Pf"
      }
    },
    {
      "cell_type": "code",
      "source": [
        "# Naming Convention Example:\n",
        "\n",
        "Hourly_Rate = 100\n",
        "Hours = 78\n",
        "\n",
        "Total_Compensation = Hourly_Rate * Hours\n",
        "\n",
        "print(Total_Compensation)"
      ],
      "metadata": {
        "colab": {
          "base_uri": "https://localhost:8080/"
        },
        "id": "7QO-I13M_5mK",
        "outputId": "68b7eeb5-e477-42ee-f647-37c4c4c2c0a3"
      },
      "execution_count": null,
      "outputs": [
        {
          "output_type": "stream",
          "name": "stdout",
          "text": [
            "7800\n"
          ]
        }
      ]
    },
    {
      "cell_type": "code",
      "source": [
        "# Naming Convention Types:\n",
        "\n",
        "# Camel Case\n",
        "testVartiableCase = 'Vanilla'\n",
        "\n",
        "# Pascal Case\n",
        "TestVartiableCase = 'Vanilla'\n",
        "\n",
        "# Snake Case\n",
        "test_vartiable_case = 'Vanilla'"
      ],
      "metadata": {
        "id": "kMLe7lRMzNkM"
      },
      "execution_count": null,
      "outputs": []
    },
    {
      "cell_type": "markdown",
      "source": [
        "### 2.5 Slicing Variables"
      ],
      "metadata": {
        "id": "lqU0FcqJBnfo"
      }
    },
    {
      "cell_type": "code",
      "source": [
        "# Slicing is extracting a portion of a sequence (list,string, tuple, etc.) using indexes\n",
        "\n",
        "my_string = 'I Love You'\n",
        "     #Index: 0123456789"
      ],
      "metadata": {
        "id": "w_F4hmx77Am1"
      },
      "execution_count": null,
      "outputs": []
    },
    {
      "cell_type": "code",
      "source": [
        "# Slicing a specific index position\n",
        "my_string[2]"
      ],
      "metadata": {
        "id": "FUrufvLx7Ape"
      },
      "execution_count": null,
      "outputs": []
    },
    {
      "cell_type": "code",
      "source": [
        "# Slicing with an index range\n",
        "  # Syntax: Start, Stop, Step\n",
        "\n",
        "my_string[2:6]"
      ],
      "metadata": {
        "colab": {
          "base_uri": "https://localhost:8080/",
          "height": 35
        },
        "id": "-012dihX7AsL",
        "outputId": "6bd25cf0-2eaa-44cf-d20f-9ea3ab773a1a"
      },
      "execution_count": null,
      "outputs": [
        {
          "output_type": "execute_result",
          "data": {
            "text/plain": [
              "'Love'"
            ],
            "application/vnd.google.colaboratory.intrinsic+json": {
              "type": "string"
            }
          },
          "metadata": {},
          "execution_count": 38
        }
      ]
    },
    {
      "cell_type": "code",
      "source": [
        "# Example 1: Syntax variation\n",
        "my_string[0:]"
      ],
      "metadata": {
        "colab": {
          "base_uri": "https://localhost:8080/",
          "height": 35
        },
        "id": "dZFSPekK7Auv",
        "outputId": "14cdf221-3458-47ee-f91e-6e2d3d8496cd"
      },
      "execution_count": null,
      "outputs": [
        {
          "output_type": "execute_result",
          "data": {
            "text/plain": [
              "'I Love You'"
            ],
            "application/vnd.google.colaboratory.intrinsic+json": {
              "type": "string"
            }
          },
          "metadata": {},
          "execution_count": 44
        }
      ]
    },
    {
      "cell_type": "code",
      "source": [
        "# Example 2: Syntax variation\n",
        "my_string[:10]"
      ],
      "metadata": {
        "colab": {
          "base_uri": "https://localhost:8080/",
          "height": 35
        },
        "id": "7OLv3V9W7AxJ",
        "outputId": "cd62c82c-144c-4d09-f844-711ab17d352d"
      },
      "execution_count": null,
      "outputs": [
        {
          "output_type": "execute_result",
          "data": {
            "text/plain": [
              "'I Love You'"
            ],
            "application/vnd.google.colaboratory.intrinsic+json": {
              "type": "string"
            }
          },
          "metadata": {},
          "execution_count": 46
        }
      ]
    },
    {
      "cell_type": "code",
      "source": [
        "# Example 3: Syntax variation (steps)\n",
        "  # Skip x amount of position\n",
        "my_string[0:10:2]"
      ],
      "metadata": {
        "colab": {
          "base_uri": "https://localhost:8080/",
          "height": 35
        },
        "id": "eGlEXtuL7A0D",
        "outputId": "a938da7c-ea94-4bd8-b4c2-0b37c420c96a"
      },
      "execution_count": null,
      "outputs": [
        {
          "output_type": "execute_result",
          "data": {
            "text/plain": [
              "'ILv o'"
            ],
            "application/vnd.google.colaboratory.intrinsic+json": {
              "type": "string"
            }
          },
          "metadata": {},
          "execution_count": 49
        }
      ]
    },
    {
      "cell_type": "code",
      "source": [
        "# Example 4: Syntax variation (negative)\n",
        "my_string[-10:-1]"
      ],
      "metadata": {
        "colab": {
          "base_uri": "https://localhost:8080/",
          "height": 35
        },
        "id": "8liZmO-bELuX",
        "outputId": "0764c7cf-4a1b-4bd3-f099-7a93370ede11"
      },
      "execution_count": null,
      "outputs": [
        {
          "output_type": "execute_result",
          "data": {
            "text/plain": [
              "'I Love Yo'"
            ],
            "application/vnd.google.colaboratory.intrinsic+json": {
              "type": "string"
            }
          },
          "metadata": {},
          "execution_count": 54
        }
      ]
    },
    {
      "cell_type": "markdown",
      "source": [
        "## 3.0 Data Types:"
      ],
      "metadata": {
        "id": "xHif8J7dGj8W"
      }
    },
    {
      "cell_type": "markdown",
      "source": [
        "### 3.1 What are data types?\n",
        "- Classification (class object) that specifies which type of value a variable has and what operations can be applied to it\n",
        "- **5 Classifications**: Numeric, Dictionary, Boolean, Set, Sequence Type\n",
        "- **Mutable**: Ability of objects to change their values (*list, dictionary, set*) - We can update the data\n",
        "- **Immutable**: It cannot be changed. Once created, the value of these objects is permanent (*number, strings, tuples*)\n",
        "- **Numbers**: Integer (whole numbers), Float (decimals), Complex Numbers (\"imaginary numbers\" e.g. 1+2j)\n",
        "- **Boolean**: True or False (0 or 1). Often used with Comparison or Logical operators to determine the truth or false of an expression\n",
        "- **Sequence Type**: Strings, Lists, Tuples. Can accessed via index. Lists are mutable while Strings and Tuples are immutable\n",
        "- **Set**: Unordered collection of data types that is iterable, mutable, and has no duplicate elements. Good for comparing unique values to another set. Cannot be accessed by index\n",
        "- **Dictionary**: Presented in key:value pairs. Values in a dictionary can be of any data type and can be duplicated. Keys can't be repeated and must be immutable (string, numbers, tuples)"
      ],
      "metadata": {
        "id": "HuE9rRq2Gnfl"
      }
    },
    {
      "cell_type": "markdown",
      "source": [
        "### 3.2 Numbers"
      ],
      "metadata": {
        "id": "nR2bckW3ls7T"
      }
    },
    {
      "cell_type": "code",
      "source": [
        "# Integer: Whole Number\n",
        "type(5+6)"
      ],
      "metadata": {
        "id": "xlFaOOM_ELzK",
        "colab": {
          "base_uri": "https://localhost:8080/"
        },
        "outputId": "3271b1ff-3780-4fae-bb3f-2726ee06bd2c"
      },
      "execution_count": null,
      "outputs": [
        {
          "output_type": "execute_result",
          "data": {
            "text/plain": [
              "int"
            ]
          },
          "metadata": {},
          "execution_count": 6
        }
      ]
    },
    {
      "cell_type": "code",
      "source": [
        "# Float: Decimal\n",
        "type(5+6.1)"
      ],
      "metadata": {
        "id": "IZw_vBgVEL39",
        "colab": {
          "base_uri": "https://localhost:8080/"
        },
        "outputId": "2e47d0a9-3972-43b3-d6ce-87106c6d6463"
      },
      "execution_count": null,
      "outputs": [
        {
          "output_type": "execute_result",
          "data": {
            "text/plain": [
              "float"
            ]
          },
          "metadata": {},
          "execution_count": 2
        }
      ]
    },
    {
      "cell_type": "code",
      "source": [
        "# Float: Decimal\n",
        "type(5.9+6.1)"
      ],
      "metadata": {
        "id": "Uor-Jla-EL9n",
        "colab": {
          "base_uri": "https://localhost:8080/"
        },
        "outputId": "8283aa55-e25b-439a-dab2-8e09b4ce0f9f"
      },
      "execution_count": null,
      "outputs": [
        {
          "output_type": "execute_result",
          "data": {
            "text/plain": [
              "float"
            ]
          },
          "metadata": {},
          "execution_count": 3
        }
      ]
    },
    {
      "cell_type": "code",
      "source": [
        "# Integer: Whole Number\n",
        "type(round(5.9+6.1))"
      ],
      "metadata": {
        "id": "jqDhIXSiEMEY",
        "colab": {
          "base_uri": "https://localhost:8080/"
        },
        "outputId": "5aef3c8c-0a22-4898-b202-cebffe654f32"
      },
      "execution_count": null,
      "outputs": [
        {
          "output_type": "execute_result",
          "data": {
            "text/plain": [
              "int"
            ]
          },
          "metadata": {},
          "execution_count": 5
        }
      ]
    },
    {
      "cell_type": "code",
      "source": [
        "# Complex Numbers:\n",
        "type(1 + 9j)"
      ],
      "metadata": {
        "id": "ujQCMzyLEMrA",
        "colab": {
          "base_uri": "https://localhost:8080/"
        },
        "outputId": "dd2a15e1-ee5a-4a8e-f263-c3d54d68ab38"
      },
      "execution_count": null,
      "outputs": [
        {
          "output_type": "execute_result",
          "data": {
            "text/plain": [
              "complex"
            ]
          },
          "metadata": {},
          "execution_count": 8
        }
      ]
    },
    {
      "cell_type": "markdown",
      "source": [
        "### 3.3 Boolean\n",
        "- Numerically, true is 1 and false is 0"
      ],
      "metadata": {
        "id": "7Hg38a0im_3f"
      }
    },
    {
      "cell_type": "code",
      "source": [
        "type(True)"
      ],
      "metadata": {
        "id": "7aBLS0wCEMvU",
        "colab": {
          "base_uri": "https://localhost:8080/"
        },
        "outputId": "b1ed8730-5e39-4a47-de2c-65018317043f"
      },
      "execution_count": null,
      "outputs": [
        {
          "output_type": "execute_result",
          "data": {
            "text/plain": [
              "bool"
            ]
          },
          "metadata": {},
          "execution_count": 9
        }
      ]
    },
    {
      "cell_type": "code",
      "source": [
        "type(False)"
      ],
      "metadata": {
        "id": "awwgeM01EMz_",
        "colab": {
          "base_uri": "https://localhost:8080/"
        },
        "outputId": "f06006ee-9e2b-4ca4-d44a-1eafda549a06"
      },
      "execution_count": null,
      "outputs": [
        {
          "output_type": "execute_result",
          "data": {
            "text/plain": [
              "bool"
            ]
          },
          "metadata": {},
          "execution_count": 10
        }
      ]
    },
    {
      "cell_type": "code",
      "source": [
        "type(1 > 5)"
      ],
      "metadata": {
        "id": "eLZtthQqEM5R",
        "colab": {
          "base_uri": "https://localhost:8080/"
        },
        "outputId": "dc4d7e2d-55d9-441b-c19c-a582f4712c26"
      },
      "execution_count": null,
      "outputs": [
        {
          "output_type": "execute_result",
          "data": {
            "text/plain": [
              "bool"
            ]
          },
          "metadata": {},
          "execution_count": 11
        }
      ]
    },
    {
      "cell_type": "markdown",
      "source": [
        "### 3.4 Strings"
      ],
      "metadata": {
        "id": "e7l1PBdmnwzE"
      }
    },
    {
      "cell_type": "code",
      "source": [
        "# Different types of string\n",
        "x = 'Single Quotes'\n",
        "\n",
        "y = \"Double Quotes\"\n",
        "\n",
        "z = '''\n",
        "Triple\n",
        "Quotes\n",
        "'''\n",
        "\n",
        "print(x)\n",
        "print(y)\n",
        "print(z)"
      ],
      "metadata": {
        "id": "SiADJ6uGENAX",
        "colab": {
          "base_uri": "https://localhost:8080/"
        },
        "outputId": "02b1797e-71d8-4ee0-bd90-a9c7ea463114"
      },
      "execution_count": null,
      "outputs": [
        {
          "output_type": "stream",
          "name": "stdout",
          "text": [
            "Single Quotes\n",
            "Double Quotes\n",
            "\n",
            "Triple\n",
            "Quotes\n",
            "\n"
          ]
        }
      ]
    },
    {
      "cell_type": "code",
      "source": [
        "# New line\n",
        "x = 'Single\\nQuote'\n",
        "print(x)"
      ],
      "metadata": {
        "id": "qY0stdeLENFm",
        "colab": {
          "base_uri": "https://localhost:8080/"
        },
        "outputId": "2c681f3c-e35b-4d69-8ae6-d92a8f360dad"
      },
      "execution_count": null,
      "outputs": [
        {
          "output_type": "stream",
          "name": "stdout",
          "text": [
            "Single\n",
            "Quote\n"
          ]
        }
      ]
    },
    {
      "cell_type": "code",
      "source": [
        "# tab\n",
        "x = 'Single\\tQuote'\n",
        "print(x)"
      ],
      "metadata": {
        "id": "UYa8xqvEENJ0",
        "colab": {
          "base_uri": "https://localhost:8080/"
        },
        "outputId": "1bb3b55a-2bdb-4b1f-9fbc-8f3c16b46fb7"
      },
      "execution_count": null,
      "outputs": [
        {
          "output_type": "stream",
          "name": "stdout",
          "text": [
            "Single\tQuote\n"
          ]
        }
      ]
    },
    {
      "cell_type": "code",
      "source": [
        "# Handling apostrophes V1 (interpreting as a special sequence)\n",
        "x = \"I\\'m a string\"\n",
        "\n",
        "# Handling apostrophes V2 (using double quotations)\n",
        "x = \"I'm a string\"\n",
        "print(x)"
      ],
      "metadata": {
        "colab": {
          "base_uri": "https://localhost:8080/"
        },
        "id": "AujfTUz5nuqf",
        "outputId": "b2a3f11e-ca6f-40db-b13b-6fe9ffb0e703"
      },
      "execution_count": null,
      "outputs": [
        {
          "output_type": "stream",
          "name": "stdout",
          "text": [
            "I'm a string\n"
          ]
        }
      ]
    },
    {
      "cell_type": "code",
      "source": [
        "# Raw strings\n",
        "x = r'I\\'m a string'\n",
        "print(x)"
      ],
      "metadata": {
        "colab": {
          "base_uri": "https://localhost:8080/"
        },
        "id": "mLkCQ5Atnuts",
        "outputId": "20258919-5354-4031-c2c0-618ebeef50c2"
      },
      "execution_count": null,
      "outputs": [
        {
          "output_type": "stream",
          "name": "stdout",
          "text": [
            "I\\'m a string\n"
          ]
        }
      ]
    },
    {
      "cell_type": "code",
      "source": [
        "# Mutiple line V1\n",
        "multi_line = \"\"\"\n",
        "\"That is so great! said Joseph. \\n \"Yeah, it really is!\" said Alexies.\n",
        "\"\"\"\n",
        "\n",
        "print(multi_line)"
      ],
      "metadata": {
        "colab": {
          "base_uri": "https://localhost:8080/"
        },
        "id": "uk9UG4jHnuxP",
        "outputId": "4df2af97-92c6-425d-efa6-8dd04445d25f"
      },
      "execution_count": null,
      "outputs": [
        {
          "output_type": "stream",
          "name": "stdout",
          "text": [
            "\n",
            "\"That is so great! said Joseph. \n",
            " \"Yeah, it really is!\" said Alexies.\n",
            "\n"
          ]
        }
      ]
    },
    {
      "cell_type": "code",
      "source": [
        "# Mutiple line V2\n",
        "multi_line = \"\"\"\n",
        "\"That is so great! said Joseph.\n",
        "\"Yeah, it really is!\" said Alexies.\n",
        "\"\"\"\n",
        "\n",
        "print(multi_line)"
      ],
      "metadata": {
        "colab": {
          "base_uri": "https://localhost:8080/"
        },
        "id": "0oWuNIW8nu15",
        "outputId": "7cf3b2bc-bc19-41a3-c13a-61e7318f6aa5"
      },
      "execution_count": null,
      "outputs": [
        {
          "output_type": "stream",
          "name": "stdout",
          "text": [
            "\n",
            "\"That is so great! said Joseph. \n",
            "\"Yeah, it really is!\" said Alexies.\n",
            "\n"
          ]
        }
      ]
    },
    {
      "cell_type": "code",
      "source": [
        "# Strings w/ operators\n",
        "x = 'Hello ' * 3\n",
        "y = 'Hello' + ' World'\n",
        "\n",
        "print(x)\n",
        "print(y)"
      ],
      "metadata": {
        "colab": {
          "base_uri": "https://localhost:8080/"
        },
        "id": "x6KlWWiFnu49",
        "outputId": "c0887f1c-b811-4784-bc26-91b79e3bada1"
      },
      "execution_count": null,
      "outputs": [
        {
          "output_type": "stream",
          "name": "stdout",
          "text": [
            "Hello Hello Hello \n",
            "Hello World\n"
          ]
        }
      ]
    },
    {
      "cell_type": "code",
      "source": [
        "# String immutable example (not change actual characters within a string)\n",
        "x = 'Hello World'\n",
        "del x[1]"
      ],
      "metadata": {
        "colab": {
          "base_uri": "https://localhost:8080/",
          "height": 176
        },
        "id": "KGKN0d51qv2r",
        "outputId": "769f0f84-943c-4da3-9df6-a5e73f50366c"
      },
      "execution_count": null,
      "outputs": [
        {
          "output_type": "error",
          "ename": "TypeError",
          "evalue": "'str' object doesn't support item deletion",
          "traceback": [
            "\u001b[0;31m---------------------------------------------------------------------------\u001b[0m",
            "\u001b[0;31mTypeError\u001b[0m                                 Traceback (most recent call last)",
            "\u001b[0;32m<ipython-input-31-ae64cc9b18f0>\u001b[0m in \u001b[0;36m<cell line: 3>\u001b[0;34m()\u001b[0m\n\u001b[1;32m      1\u001b[0m \u001b[0;31m# String immutable example\u001b[0m\u001b[0;34m\u001b[0m\u001b[0;34m\u001b[0m\u001b[0m\n\u001b[1;32m      2\u001b[0m \u001b[0mx\u001b[0m \u001b[0;34m=\u001b[0m \u001b[0;34m'Hello World'\u001b[0m\u001b[0;34m\u001b[0m\u001b[0;34m\u001b[0m\u001b[0m\n\u001b[0;32m----> 3\u001b[0;31m \u001b[0;32mdel\u001b[0m \u001b[0mx\u001b[0m\u001b[0;34m[\u001b[0m\u001b[0;36m1\u001b[0m\u001b[0;34m]\u001b[0m\u001b[0;34m\u001b[0m\u001b[0;34m\u001b[0m\u001b[0m\n\u001b[0m",
            "\u001b[0;31mTypeError\u001b[0m: 'str' object doesn't support item deletion"
          ]
        }
      ]
    },
    {
      "cell_type": "markdown",
      "source": [
        "### 3.5 Lists\n",
        "- Ordered\n",
        "- Changeable\n",
        "- Can contain different data types\n",
        "- Contains duplicate"
      ],
      "metadata": {
        "id": "H5K5kIm4rsBp"
      }
    },
    {
      "cell_type": "code",
      "source": [
        "# List sample\n",
        "  # All data types, even a list within a list\n",
        "\n",
        "dog_list = [1, 'Dog', ['Daisy', 'Golden Doodle', 1], 1.1, True]\n",
        "type(dog_list)"
      ],
      "metadata": {
        "colab": {
          "base_uri": "https://localhost:8080/"
        },
        "id": "in03-24tqv6P",
        "outputId": "630d0454-da06-4d1e-cdce-ab2731b96229"
      },
      "execution_count": null,
      "outputs": [
        {
          "output_type": "execute_result",
          "data": {
            "text/plain": [
              "list"
            ]
          },
          "metadata": {},
          "execution_count": 32
        }
      ]
    },
    {
      "cell_type": "code",
      "source": [
        "# Lists are mutable: Adding value to list via \"append\"\n",
        "\n",
        "dog_list.append(['Fetch', 'Play', 'Ball', 'Park'])\n",
        "print(dog_list)"
      ],
      "metadata": {
        "colab": {
          "base_uri": "https://localhost:8080/"
        },
        "id": "iC7FlYF-qv86",
        "outputId": "f11d3179-14d7-40f5-938a-06222f9fa0f3"
      },
      "execution_count": null,
      "outputs": [
        {
          "output_type": "stream",
          "name": "stdout",
          "text": [
            "[1, 'Dog', ['Daisy', 'Golden Doodle', 1], 1.1, True, ['Fetch', 'Play', 'Ball', 'Park']]\n"
          ]
        }
      ]
    },
    {
      "cell_type": "code",
      "source": [
        "# Lists are mutable: Changing value in list\n",
        "\n",
        "dog_list[0] = '11/8/2022'\n",
        "\n",
        "print(dog_list)"
      ],
      "metadata": {
        "colab": {
          "base_uri": "https://localhost:8080/"
        },
        "id": "mVXRZJ_VqwAw",
        "outputId": "31516a56-25aa-473a-919d-3e87f0854ffb"
      },
      "execution_count": null,
      "outputs": [
        {
          "output_type": "stream",
          "name": "stdout",
          "text": [
            "['11/8/2022', 'Dog', ['Daisy', 'Golden Doodle', 1], 1.1, True, ['Fetch', 'Play', 'Ball', 'Park']]\n"
          ]
        }
      ]
    },
    {
      "cell_type": "code",
      "source": [
        "# Drilling down list within a list\n",
        "\n",
        "x = dog_list[2]\n",
        "y = dog_list[2][1]\n",
        "z = dog_list[2][1][0]\n",
        "\n",
        "print(x)\n",
        "print(y)\n",
        "print(z)"
      ],
      "metadata": {
        "colab": {
          "base_uri": "https://localhost:8080/"
        },
        "id": "G5M77rC5qwE1",
        "outputId": "a6f8aef7-965a-4177-a34f-d40217d4d946"
      },
      "execution_count": null,
      "outputs": [
        {
          "output_type": "stream",
          "name": "stdout",
          "text": [
            "['Daisy', 'Golden Doodle', 1]\n",
            "Golden Doodle\n",
            "G\n"
          ]
        }
      ]
    },
    {
      "cell_type": "code",
      "source": [
        "# Adding lists together into one\n",
        "\n",
        "list_1 = [1, 'Daisy']\n",
        "list_2 = [4, 'Loves Daddy']\n",
        "\n",
        "list_3 = list_1 + list_2\n",
        "\n",
        "print(list_3)"
      ],
      "metadata": {
        "colab": {
          "base_uri": "https://localhost:8080/"
        },
        "id": "Po3dP3cmqwI4",
        "outputId": "ead070b4-8874-4a7f-b403-eb80c6a35642"
      },
      "execution_count": null,
      "outputs": [
        {
          "output_type": "stream",
          "name": "stdout",
          "text": [
            "[1, 'Daisy', 4, 'Loves Daddy']\n"
          ]
        }
      ]
    },
    {
      "cell_type": "markdown",
      "source": [
        "### 3.6 Tuples\n",
        "- Immutable\n",
        "- Ordered (index)\n",
        "- **Use Case**: For storing data that we know that will not change over time"
      ],
      "metadata": {
        "id": "bh18j4Lx4P7u"
      }
    },
    {
      "cell_type": "code",
      "source": [
        "# Tuple sample\n",
        "\n",
        "dog_list = (1, 'Dog', ['Daisy', 'Golden Doodle', 1], 1.1, True)\n",
        "type(dog_list)"
      ],
      "metadata": {
        "colab": {
          "base_uri": "https://localhost:8080/"
        },
        "id": "XpODbz24qwLc",
        "outputId": "52e50639-c696-4299-c39e-06f29367f914"
      },
      "execution_count": null,
      "outputs": [
        {
          "output_type": "execute_result",
          "data": {
            "text/plain": [
              "tuple"
            ]
          },
          "metadata": {},
          "execution_count": 39
        }
      ]
    },
    {
      "cell_type": "code",
      "source": [
        "# As tuples are immutable, you cannot add additional value\n",
        "\n",
        "dog_list.append(10)\n",
        "print(dog_list)"
      ],
      "metadata": {
        "colab": {
          "base_uri": "https://localhost:8080/",
          "height": 193
        },
        "id": "yUqm6ybb4OXl",
        "outputId": "e93452f9-b2fb-4171-b6a7-1871a1ffddcf"
      },
      "execution_count": null,
      "outputs": [
        {
          "output_type": "error",
          "ename": "AttributeError",
          "evalue": "'tuple' object has no attribute 'append'",
          "traceback": [
            "\u001b[0;31m---------------------------------------------------------------------------\u001b[0m",
            "\u001b[0;31mAttributeError\u001b[0m                            Traceback (most recent call last)",
            "\u001b[0;32m<ipython-input-40-08792d8ef2e3>\u001b[0m in \u001b[0;36m<cell line: 3>\u001b[0;34m()\u001b[0m\n\u001b[1;32m      1\u001b[0m \u001b[0;31m# As tuples are immutable, you cannot add additional value\u001b[0m\u001b[0;34m\u001b[0m\u001b[0;34m\u001b[0m\u001b[0m\n\u001b[1;32m      2\u001b[0m \u001b[0;34m\u001b[0m\u001b[0m\n\u001b[0;32m----> 3\u001b[0;31m \u001b[0mdog_list\u001b[0m\u001b[0;34m.\u001b[0m\u001b[0mappend\u001b[0m\u001b[0;34m(\u001b[0m\u001b[0;36m10\u001b[0m\u001b[0;34m)\u001b[0m\u001b[0;34m\u001b[0m\u001b[0;34m\u001b[0m\u001b[0m\n\u001b[0m\u001b[1;32m      4\u001b[0m \u001b[0mprint\u001b[0m\u001b[0;34m(\u001b[0m\u001b[0mdog_list\u001b[0m\u001b[0;34m)\u001b[0m\u001b[0;34m\u001b[0m\u001b[0;34m\u001b[0m\u001b[0m\n",
            "\u001b[0;31mAttributeError\u001b[0m: 'tuple' object has no attribute 'append'"
          ]
        }
      ]
    },
    {
      "cell_type": "code",
      "source": [
        "# Adding tuples together into one\n",
        "\n",
        "tuple_1 = [1, 'Daisy']\n",
        "tuple_2 = [4, 'Loves Daddy']\n",
        "\n",
        "tuple_3 = tuple_1 + tuple_2\n",
        "\n",
        "print(tuple_3)"
      ],
      "metadata": {
        "colab": {
          "base_uri": "https://localhost:8080/"
        },
        "id": "XQG9mzIR4Ocw",
        "outputId": "59f51187-9190-4a6f-fca0-0a6d38a5a4cd"
      },
      "execution_count": null,
      "outputs": [
        {
          "output_type": "stream",
          "name": "stdout",
          "text": [
            "[1, 'Daisy', 4, 'Loves Daddy']\n"
          ]
        }
      ]
    },
    {
      "cell_type": "markdown",
      "source": [
        "### 3.7 Sets\n",
        "- Unordered (no index)\n",
        "- Mutable\n",
        "- No duplicate elements\n",
        "- **Use Case**: Good for checking unions, intersections, differences between sets"
      ],
      "metadata": {
        "id": "hN7ztjya5yQP"
      }
    },
    {
      "cell_type": "code",
      "source": [
        "# Set sample\n",
        "\n",
        "first_set = {1, 1, 2, 2, 'Hey!'}\n",
        "print(first_set)"
      ],
      "metadata": {
        "colab": {
          "base_uri": "https://localhost:8080/"
        },
        "id": "4uZUToob567v",
        "outputId": "c7ad8e31-f722-46e3-e9c8-dfa552d05849"
      },
      "execution_count": null,
      "outputs": [
        {
          "output_type": "stream",
          "name": "stdout",
          "text": [
            "{1, 2, 'Hey!'}\n"
          ]
        }
      ]
    },
    {
      "cell_type": "code",
      "source": [
        "# Can't add mutable values in sets (lists)\n",
        "\n",
        "second_set = {[1, 1], 2, 2, 'Hey!'}\n",
        "print(second_set)"
      ],
      "metadata": {
        "colab": {
          "base_uri": "https://localhost:8080/",
          "height": 176
        },
        "id": "sYXOBTIl56_D",
        "outputId": "a653e267-60ab-4719-a2b6-8861d80aefbf"
      },
      "execution_count": null,
      "outputs": [
        {
          "output_type": "error",
          "ename": "TypeError",
          "evalue": "unhashable type: 'list'",
          "traceback": [
            "\u001b[0;31m---------------------------------------------------------------------------\u001b[0m",
            "\u001b[0;31mTypeError\u001b[0m                                 Traceback (most recent call last)",
            "\u001b[0;32m<ipython-input-49-26684d6f9315>\u001b[0m in \u001b[0;36m<cell line: 2>\u001b[0;34m()\u001b[0m\n\u001b[1;32m      1\u001b[0m \u001b[0;31m# Can't add mutable values in sets (lists)\u001b[0m\u001b[0;34m\u001b[0m\u001b[0;34m\u001b[0m\u001b[0m\n\u001b[0;32m----> 2\u001b[0;31m \u001b[0msecond_set\u001b[0m \u001b[0;34m=\u001b[0m \u001b[0;34m{\u001b[0m\u001b[0;34m[\u001b[0m\u001b[0;36m1\u001b[0m\u001b[0;34m,\u001b[0m \u001b[0;36m1\u001b[0m\u001b[0;34m]\u001b[0m\u001b[0;34m,\u001b[0m \u001b[0;36m2\u001b[0m\u001b[0;34m,\u001b[0m \u001b[0;36m2\u001b[0m\u001b[0;34m,\u001b[0m \u001b[0;34m'Hey!'\u001b[0m\u001b[0;34m}\u001b[0m\u001b[0;34m\u001b[0m\u001b[0;34m\u001b[0m\u001b[0m\n\u001b[0m\u001b[1;32m      3\u001b[0m \u001b[0mprint\u001b[0m\u001b[0;34m(\u001b[0m\u001b[0msecond_set\u001b[0m\u001b[0;34m)\u001b[0m\u001b[0;34m\u001b[0m\u001b[0;34m\u001b[0m\u001b[0m\n",
            "\u001b[0;31mTypeError\u001b[0m: unhashable type: 'list'"
          ]
        }
      ]
    },
    {
      "cell_type": "code",
      "source": [
        "# Can add immutable values in sets (str, tuples, etc.)\n",
        "\n",
        "third_set = {(1, 1), 2, 2, 'Hey!'}\n",
        "print(third_set)"
      ],
      "metadata": {
        "colab": {
          "base_uri": "https://localhost:8080/"
        },
        "id": "j9f67UR157CN",
        "outputId": "25b6d967-4edd-4317-fcef-262b96de650f"
      },
      "execution_count": null,
      "outputs": [
        {
          "output_type": "stream",
          "name": "stdout",
          "text": [
            "{'Hey!', (1, 1), 2}\n"
          ]
        }
      ]
    },
    {
      "cell_type": "code",
      "source": [
        "# Adding value in set via \"update\"\n",
        "\n",
        "fourth_set = {'Daisy', 'Doodle', 1, 2, 3}\n",
        "fourth_set.update([4, 5, 6])\n",
        "print(fourth_set)"
      ],
      "metadata": {
        "colab": {
          "base_uri": "https://localhost:8080/"
        },
        "id": "_9fzo9Hr57jN",
        "outputId": "9b1084cf-e188-4656-fbc1-29c311132ef2"
      },
      "execution_count": null,
      "outputs": [
        {
          "output_type": "stream",
          "name": "stdout",
          "text": [
            "{1, 2, 3, 'Daisy', 4, 5, 6, 'Doodle'}\n"
          ]
        }
      ]
    },
    {
      "cell_type": "code",
      "source": [
        "# Deleting value in set via \"discard\" or \"remove\"\n",
        "\n",
        "fourth_set.discard(4)\n",
        "fourth_set.discard(5)\n",
        "fourth_set.remove(6)\n",
        "print(fourth_set)"
      ],
      "metadata": {
        "colab": {
          "base_uri": "https://localhost:8080/"
        },
        "id": "KBIPZBhx57oK",
        "outputId": "d82cf309-aa57-4aad-d876-1e0522d15acd"
      },
      "execution_count": null,
      "outputs": [
        {
          "output_type": "stream",
          "name": "stdout",
          "text": [
            "{1, 2, 3, 'Daisy', 'Doodle'}\n"
          ]
        }
      ]
    },
    {
      "cell_type": "code",
      "source": [
        "# Set use cases:\n",
        "\n",
        "set_1 = {1, 2, 3, 4, 5}\n",
        "set_2 = {4, 5, 6, 7, 8}\n",
        "\n",
        "print(set_1 | set_2) # Union of the two sets (unique values)\n",
        "print(set_1 & set_2) # Intersection of the two sets (same values that overlap)\n",
        "print(set_1 - set_2) # Difference of the two sets (different values)\n",
        "print(set_2 - set_1) # Difference of the two sets (order matters)\n",
        "print(set_1 ^ set_2) # Show if value is either one or the other, but not in both"
      ],
      "metadata": {
        "colab": {
          "base_uri": "https://localhost:8080/"
        },
        "id": "yz2dLdWV9THN",
        "outputId": "69d6ad96-8b72-4378-d6c8-d67552c9cfad"
      },
      "execution_count": null,
      "outputs": [
        {
          "output_type": "stream",
          "name": "stdout",
          "text": [
            "{1, 2, 3, 4, 5, 6, 7, 8}\n",
            "{4, 5}\n",
            "{1, 2, 3}\n",
            "{8, 6, 7}\n",
            "{1, 2, 3, 6, 7, 8}\n"
          ]
        }
      ]
    },
    {
      "cell_type": "markdown",
      "source": [
        "### 3.8 Dictionaries\n",
        "- Key:Value pairs\n",
        "- Order (index)\n",
        "- Mutable\n",
        "- Key (no duplicates)\n",
        "- Value (duplicates)"
      ],
      "metadata": {
        "id": "i2Ee82MH5yV5"
      }
    },
    {
      "cell_type": "code",
      "source": [
        "# Dictionary sample\n",
        "\n",
        "ice_cream_customer = {\n",
        "    'Name': 'Joseph Choi',\n",
        "    'Flavor Purchased': ['Chocolate', 'Vanilla', 'Pistachio'],\n",
        "    'Age': 31}\n",
        "\n",
        "print(ice_cream_customer)"
      ],
      "metadata": {
        "colab": {
          "base_uri": "https://localhost:8080/"
        },
        "id": "GLfwPz8B58OV",
        "outputId": "85c899bf-b945-472c-9cf0-a78af0197284"
      },
      "execution_count": null,
      "outputs": [
        {
          "output_type": "stream",
          "name": "stdout",
          "text": [
            "{'Name': 'Joseph Choi', 'Flavor Purchased': ['Chocolate', 'Vanilla', 'Pistachio'], 'Age': 31}\n"
          ]
        }
      ]
    },
    {
      "cell_type": "code",
      "source": [
        "# Showing all of the keys\n",
        "\n",
        "ice_cream_customer.keys()"
      ],
      "metadata": {
        "colab": {
          "base_uri": "https://localhost:8080/"
        },
        "id": "OaVGNGevBYZd",
        "outputId": "73cc7998-07be-493f-fc5f-f268fb208dda"
      },
      "execution_count": null,
      "outputs": [
        {
          "output_type": "execute_result",
          "data": {
            "text/plain": [
              "dict_keys(['Name', 'Flavor Purchased', 'Age'])"
            ]
          },
          "metadata": {},
          "execution_count": 68
        }
      ]
    },
    {
      "cell_type": "code",
      "source": [
        "# Showing all of the values\n",
        "\n",
        "ice_cream_customer.values()"
      ],
      "metadata": {
        "colab": {
          "base_uri": "https://localhost:8080/"
        },
        "id": "zN46sBYVBYdu",
        "outputId": "0fdee98c-992e-4c5a-e2eb-ff20d949cd4d"
      },
      "execution_count": null,
      "outputs": [
        {
          "output_type": "execute_result",
          "data": {
            "text/plain": [
              "dict_values(['Joseph Choi', ['Chocolate', 'Vanilla', 'Pistachio'], 31])"
            ]
          },
          "metadata": {},
          "execution_count": 69
        }
      ]
    },
    {
      "cell_type": "code",
      "source": [
        "# Showing all of the key value pairs\n",
        "\n",
        "ice_cream_customer.items()"
      ],
      "metadata": {
        "colab": {
          "base_uri": "https://localhost:8080/"
        },
        "id": "7_JSYFVLB42C",
        "outputId": "7875b882-0416-4f94-8fa0-eb5220846a59"
      },
      "execution_count": null,
      "outputs": [
        {
          "output_type": "execute_result",
          "data": {
            "text/plain": [
              "dict_items([('Name', 'Joseph Choi'), ('Flavor Purchased', ['Chocolate', 'Vanilla', 'Pistachio']), ('Age', 31)])"
            ]
          },
          "metadata": {},
          "execution_count": 73
        }
      ]
    },
    {
      "cell_type": "code",
      "source": [
        "# Using a key to show a specified value within dictionary\n",
        "  # Can't call out values using index; Have to use keys or values\n",
        "\n",
        "ice_cream_customer['Flavor Purchased']"
      ],
      "metadata": {
        "colab": {
          "base_uri": "https://localhost:8080/"
        },
        "id": "cd3mmTSr_zon",
        "outputId": "67fc1f15-54b1-4b62-c69b-8a0228bd2b32"
      },
      "execution_count": null,
      "outputs": [
        {
          "output_type": "execute_result",
          "data": {
            "text/plain": [
              "['Chocolate', 'Vanilla', 'Pistachio']"
            ]
          },
          "metadata": {},
          "execution_count": 74
        }
      ]
    },
    {
      "cell_type": "code",
      "source": [
        "# Adding a key value pair in a preexisting dictionary\n",
        "\n",
        "ice_cream_customer['Birthday'] = '1/11/1993'\n",
        "ice_cream_customer['Amount Spent'] = 20.99\n",
        "\n",
        "print(ice_cream_customer)"
      ],
      "metadata": {
        "colab": {
          "base_uri": "https://localhost:8080/"
        },
        "id": "wPo8xpyU_zum",
        "outputId": "f986a7bb-678f-48bd-cc09-908ae8a36efd"
      },
      "execution_count": null,
      "outputs": [
        {
          "output_type": "stream",
          "name": "stdout",
          "text": [
            "{'Name': 'Joseph Choi', 'Flavor Purchased': ['Chocolate', 'Vanilla', 'Pistachio'], 'Age': 31, 'Birthday': '1/11/1993', 'Amount Spent': 20.99}\n"
          ]
        }
      ]
    },
    {
      "cell_type": "code",
      "source": [
        "# Updating a key value pair in a preexisting dictionary via \"update\"\n",
        "  # Important to note that when updating, the old key/value pair is not remove. Therefore, you will need to remove the old one\n",
        "\n",
        "ice_cream_customer.update({'Name': 'Joseph Camba-Choi', 'Flavor Purchased': ['Chocolate', 'Vanilla', 'Pistachio'], 'Age': 31, 'Date of Birth': '1/11/1993', 'Amount Spent': 100.99})\n",
        "del ice_cream_customer['Birthday']\n",
        "\n",
        "print(ice_cream_customer)"
      ],
      "metadata": {
        "colab": {
          "base_uri": "https://localhost:8080/"
        },
        "id": "BE62dRQP_z12",
        "outputId": "ae2590a0-162b-4118-fcc0-00a859d14f5e"
      },
      "execution_count": null,
      "outputs": [
        {
          "output_type": "stream",
          "name": "stdout",
          "text": [
            "{'Name': 'Joseph Camba-Choi', 'Flavor Purchased': ['Chocolate', 'Vanilla', 'Pistachio'], 'Age': 31, 'Amount Spent': 100.99, 'Date of Birth': '1/11/1993'}\n"
          ]
        }
      ]
    },
    {
      "cell_type": "code",
      "source": [
        "# Selecting a specified key and returns its corresponding value using \"pop\"\n",
        "\n",
        "customer_spent = ice_cream_customer.pop('Amount Spent')\n",
        "print(customer_spent)"
      ],
      "metadata": {
        "colab": {
          "base_uri": "https://localhost:8080/"
        },
        "id": "QWAFwIzr_z8g",
        "outputId": "9c28982c-0187-4e22-9fba-59ad349e76c9"
      },
      "execution_count": null,
      "outputs": [
        {
          "output_type": "stream",
          "name": "stdout",
          "text": [
            "100.99\n"
          ]
        }
      ]
    },
    {
      "cell_type": "code",
      "source": [
        "# Nested dictionary sample\n",
        "\n",
        "nest_dict = {\n",
        "    1: \"value_1\",\n",
        "    2: \"value_2\",\n",
        "    3: {'Name': 'Joseph Camba-Choi', 'Flavor Purchased': ['Chocolate', 'Vanilla', 'Pistachio'], 'Age': 31, 'Amount Spent': 100.99, 'Date of Birth': '1/11/1993'}\n",
        "    }\n",
        "\n",
        "print(nest_dict)"
      ],
      "metadata": {
        "colab": {
          "base_uri": "https://localhost:8080/"
        },
        "id": "j3yZVWDR58R2",
        "outputId": "f31d332d-9979-44b1-d10b-bdba35436bed"
      },
      "execution_count": null,
      "outputs": [
        {
          "output_type": "stream",
          "name": "stdout",
          "text": [
            "{1: 'value_1', 2: 'value_2', 3: {'Name': 'Joseph Camba-Choi', 'Flavor Purchased': ['Chocolate', 'Vanilla', 'Pistachio'], 'Age': 31, 'Amount Spent': 100.99, 'Date of Birth': '1/11/1993'}}\n"
          ]
        }
      ]
    },
    {
      "cell_type": "code",
      "source": [
        "# Locating values within nested dictionary\n",
        "\n",
        "x = nest_dict[3]\n",
        "y = nest_dict[3]['Flavor Purchased']\n",
        "z = nest_dict[3]['Flavor Purchased'][1]\n",
        "\n",
        "print(x)\n",
        "print(y)\n",
        "print(z)"
      ],
      "metadata": {
        "colab": {
          "base_uri": "https://localhost:8080/"
        },
        "id": "9O_xdI8E58Xa",
        "outputId": "7e2f64da-2d7a-4864-e981-e90b3c75448e"
      },
      "execution_count": null,
      "outputs": [
        {
          "output_type": "stream",
          "name": "stdout",
          "text": [
            "{'Name': 'Joseph Camba-Choi', 'Flavor Purchased': ['Chocolate', 'Vanilla', 'Pistachio'], 'Age': 31, 'Amount Spent': 100.99, 'Date of Birth': '1/11/1993'}\n",
            "['Chocolate', 'Vanilla', 'Pistachio']\n",
            "Vanilla\n"
          ]
        }
      ]
    },
    {
      "cell_type": "markdown",
      "source": [
        "### 3.9 Converting Data Types\n",
        "- **Implicit Conversion**: When Python automatically converts one data type to another\n",
        "- **Explicit Conversion**: When you manually convert a data type using functions like int(), float(), or str()"
      ],
      "metadata": {
        "id": "Q8KJHbuV5ybN"
      }
    },
    {
      "cell_type": "code",
      "source": [
        "# Implicit conversion example\n",
        "\n",
        "num_int = 7\n",
        "num_float = 1.1\n",
        "num_imp_conv = num_int/num_float\n",
        "\n",
        "print(num_imp_conv)\n",
        "print(type(num_imp_conv))"
      ],
      "metadata": {
        "colab": {
          "base_uri": "https://localhost:8080/"
        },
        "id": "aBxg6gix4OjS",
        "outputId": "17e46e85-00a7-4d9b-d4f8-a6b2ddee86d5"
      },
      "execution_count": null,
      "outputs": [
        {
          "output_type": "stream",
          "name": "stdout",
          "text": [
            "6.363636363636363\n",
            "<class 'float'>\n"
          ]
        }
      ]
    },
    {
      "cell_type": "code",
      "source": [
        "# Explicit conversion example 1\n",
        "\n",
        "num_int = 7\n",
        "num_str = '1'\n",
        "num_exp_conv = num_int + int(num_str) # Converting string to interger via \"int()\"\n",
        "\n",
        "print(num_exp_conv)\n",
        "print(type(num_exp_conv))"
      ],
      "metadata": {
        "colab": {
          "base_uri": "https://localhost:8080/"
        },
        "id": "OFxwcmaH4Oqd",
        "outputId": "8dfbcf0c-f5a7-46de-b54d-457c5201fb33"
      },
      "execution_count": null,
      "outputs": [
        {
          "output_type": "stream",
          "name": "stdout",
          "text": [
            "8\n",
            "<class 'int'>\n"
          ]
        }
      ]
    },
    {
      "cell_type": "code",
      "source": [
        "# Explicit conversion example 2\n",
        "\n",
        "my_list = [1, 2, 3, 4, 5, 4, 2, 2 ,1]\n",
        "my_set = set(my_list) # Converting list to set via \"set()\"\n",
        "my_tuple = tuple(my_list) # Converting list to tuple via \"tuple()\"\n",
        "my_str = str(my_list) # Converting list to string via \"str()\"\n",
        "\n",
        "print(my_set)\n",
        "print(type(my_set))\n",
        "\n",
        "print(my_tuple)\n",
        "print(type(my_tuple))\n",
        "\n",
        "print(my_str)\n",
        "print(type(my_str))"
      ],
      "metadata": {
        "colab": {
          "base_uri": "https://localhost:8080/"
        },
        "id": "VA01ABCb4Ow7",
        "outputId": "6b3f5db4-733c-4b3b-bba8-0ec1d477f8fe"
      },
      "execution_count": null,
      "outputs": [
        {
          "output_type": "stream",
          "name": "stdout",
          "text": [
            "{1, 2, 3, 4, 5}\n",
            "<class 'set'>\n",
            "(1, 2, 3, 4, 5, 4, 2, 2, 1)\n",
            "<class 'tuple'>\n",
            "[1, 2, 3, 4, 5, 4, 2, 2, 1]\n",
            "<class 'str'>\n"
          ]
        }
      ]
    },
    {
      "cell_type": "code",
      "source": [
        "# Explicit conversion example 3\n",
        "\n",
        "my_dict = {'Name': 'Joseph', 'Age': 31, 'Hair': 'Black'}\n",
        "\n",
        "print(my_dict.keys())\n",
        "print(type(my_dict.keys()))\n",
        "\n",
        "print(list(my_dict.keys()))\n",
        "print(type(list(my_dict.keys()))) # From dictionary to list"
      ],
      "metadata": {
        "colab": {
          "base_uri": "https://localhost:8080/"
        },
        "id": "JGPubsG44O3X",
        "outputId": "ceb40b01-664f-46ec-c90e-c41fc86e18c4"
      },
      "execution_count": null,
      "outputs": [
        {
          "output_type": "stream",
          "name": "stdout",
          "text": [
            "dict_keys(['Name', 'Age', 'Hair'])\n",
            "<class 'dict_keys'>\n",
            "['Name', 'Age', 'Hair']\n",
            "<class 'list'>\n"
          ]
        }
      ]
    },
    {
      "cell_type": "code",
      "source": [
        "# Explicit conversion example 3\n",
        "\n",
        "my_str = 'Hello, my name is Joseph'\n",
        "\n",
        "print(list(my_str)) # Converting str to list\n",
        "print(tuple(my_str)) # Converting str to tuple\n",
        "print(set(my_str)) # Converting str to set"
      ],
      "metadata": {
        "colab": {
          "base_uri": "https://localhost:8080/"
        },
        "id": "ZneybhO24O8V",
        "outputId": "e50334bc-513d-443a-8b29-d1198682a720"
      },
      "execution_count": null,
      "outputs": [
        {
          "output_type": "stream",
          "name": "stdout",
          "text": [
            "['H', 'e', 'l', 'l', 'o', ',', ' ', 'm', 'y', ' ', 'n', 'a', 'm', 'e', ' ', 'i', 's', ' ', 'J', 'o', 's', 'e', 'p', 'h']\n",
            "('H', 'e', 'l', 'l', 'o', ',', ' ', 'm', 'y', ' ', 'n', 'a', 'm', 'e', ' ', 'i', 's', ' ', 'J', 'o', 's', 'e', 'p', 'h')\n",
            "{'e', 'i', 'l', 'o', ' ', 'H', 'J', 'h', 'a', 'y', 'n', 'm', 'p', ',', 's'}\n"
          ]
        }
      ]
    },
    {
      "cell_type": "markdown",
      "source": [
        "## 4.0 Operators"
      ],
      "metadata": {
        "id": "wbgIHarbMLWn"
      }
    },
    {
      "cell_type": "markdown",
      "source": [
        "### 4.1 What are operators?\n",
        "- Special symbols in Python that carry out arithmetic or logical computation\n",
        "- **Operand**: Value that the operator operates on\n",
        "- **7 Operator Types**:\n",
        "  - **Arithmetic**: Used to perform mathematical operations\n",
        "  - **Comparison**: Used to compare values. Returns either True or False according to the condition\n",
        "  - **Logical**: Used to connect two or more expressions to be evaluated (and, or, not)\n",
        "  - **Assignment**: Used to assign values to variables\n",
        "  - **Membership**: Used to test whether a value or variable is found in a sequence (in, not in)\n",
        "  - **Identity**: Used to check if two values/variables are located on the same part of the memory. Two variables that are equal do not imply that they are identical (is, is not)\n",
        "  - **Bitwise**: Used to perform bitwise calculations in integers. Integers are converted into binary and then operations are performed bit by bit\n",
        "\n"
      ],
      "metadata": {
        "id": "zLigwaOU29Dn"
      }
    },
    {
      "cell_type": "markdown",
      "source": [
        "### 4.2 Comparison Operator\n",
        "- `>`: Greater than - True if left operand is greater than the right (e.g., `x > y`)\n",
        "- `<`: Less than - True if left operand is less than the right (e.g., `x < y`)\n",
        "- `==`: Equal to - True if both operands are equal (e.g., `x == y`)\n",
        "- `!=`: Not equal to - True if operands are not equal (e.g., `x != y`)\n",
        "- `>=`: Greater than or equal to - True if left operand is greater than or equal to the right (e.g., `x >= y`)"
      ],
      "metadata": {
        "id": "lILql8xk486Z"
      }
    },
    {
      "cell_type": "code",
      "source": [
        "# Comparison operator int examples:\n",
        "\n",
        "a = 5 == 5 # equal\n",
        "b = 5 != 10 # not equal\n",
        "c = 5 > 10 # greater than\n",
        "d = 5 < 10 # less than\n",
        "e = 5 >= 5 # greater than or equal to\n",
        "f = 5 <= 5 # less than or equal to\n",
        "\n",
        "print(a)\n",
        "print(b)\n",
        "print(c)\n",
        "print(d)\n",
        "print(e)\n",
        "print(f)"
      ],
      "metadata": {
        "colab": {
          "base_uri": "https://localhost:8080/"
        },
        "id": "ZAeYjTIl5TVx",
        "outputId": "94e87073-5d4f-43d7-fa44-fbbc168b6dd8"
      },
      "execution_count": null,
      "outputs": [
        {
          "output_type": "stream",
          "name": "stdout",
          "text": [
            "True\n",
            "True\n",
            "False\n",
            "True\n",
            "True\n",
            "True\n"
          ]
        }
      ]
    },
    {
      "cell_type": "code",
      "source": [
        "# Comparison operator str examples:\n",
        "  # Compares alphabetically\n",
        "\n",
        "'Banana Cream Pie Ice Cream' < 'Vanilla'"
      ],
      "metadata": {
        "colab": {
          "base_uri": "https://localhost:8080/"
        },
        "id": "rYnTHqzk5TYt",
        "outputId": "c8683546-1dd8-4ac3-eb0c-5fcb80b13702"
      },
      "execution_count": null,
      "outputs": [
        {
          "output_type": "execute_result",
          "data": {
            "text/plain": [
              "True"
            ]
          },
          "metadata": {},
          "execution_count": 4
        }
      ]
    },
    {
      "cell_type": "markdown",
      "source": [
        "### 4.3 Arithmetic Operators\n",
        "- `+`: Add two operands or unary plus (e.g., `x + y + 2`)\n",
        "- `-`: Subtract right operand from the left or unary minus (e.g., `x - y - 2`)\n",
        "- `*`: Multiply two operands (e.g., `x * y`)\n",
        "- `/`: Divide left operand by the right one (always results in a float) (e.g., `x / y`)\n",
        "- `%`: Modulus - remainder of the division of left operand by the right (e.g., `x % y`)\n",
        "- `//`: Floor division - division that results in whole number adjusted to the left in the number line (e.g., `x // y`)\n",
        "- `**`: Exponent - left operand raised to the power of right (e.g., `x ** y`)"
      ],
      "metadata": {
        "id": "4XC2kFkq49co"
      }
    },
    {
      "cell_type": "code",
      "source": [
        "# Arithmetic operator examples:\n",
        "\n",
        "a = 5 / 10 # division\n",
        "b = 5 // 10 # floor division (round down to the nearest whole number)\n",
        "c = 5 % 10 # modulus (remainder)\n",
        "d = 4 % 2 == 0 # checking to see if a number is divisible by another number (no remainder)\n",
        "\n",
        "print(a)\n",
        "print(b)\n",
        "print(c)\n",
        "print(d)"
      ],
      "metadata": {
        "colab": {
          "base_uri": "https://localhost:8080/"
        },
        "id": "i8CsFmg95UQb",
        "outputId": "871ea855-75ba-430b-e18c-aec3b6702fc0"
      },
      "execution_count": null,
      "outputs": [
        {
          "output_type": "stream",
          "name": "stdout",
          "text": [
            "0.5\n",
            "0\n",
            "5\n",
            "True\n"
          ]
        }
      ]
    },
    {
      "cell_type": "code",
      "source": [
        "# Built-in functions:\n",
        "\n",
        "a = abs(-15) #absolute\n",
        "b = pow(2, 4) #power\n",
        "c = round(123.515, 2) #rounding\n",
        "d = min([1,2,3])\n",
        "e = max([1,2,3])\n",
        "\n",
        "print(a)\n",
        "print(b)\n",
        "print(c)\n",
        "print(d)\n",
        "print(e)"
      ],
      "metadata": {
        "colab": {
          "base_uri": "https://localhost:8080/"
        },
        "id": "M1VbLRcR5UTr",
        "outputId": "e040e243-8aab-4a01-f4e7-fc7fdadc081a"
      },
      "execution_count": null,
      "outputs": [
        {
          "output_type": "stream",
          "name": "stdout",
          "text": [
            "15\n",
            "16\n",
            "123.52\n",
            "1\n",
            "3\n"
          ]
        }
      ]
    },
    {
      "cell_type": "code",
      "source": [
        "# Imported functions (math)\n",
        "\n",
        "import math\n",
        "\n",
        "a = math.ceil(5.25)\n",
        "b = math.floor(5.85)\n",
        "c = math.fsum([1,2,3,4,5])\n",
        "d = math.sqrt(25)\n",
        "\n",
        "print(a)\n",
        "print(b)\n",
        "print(c)\n",
        "print(d)"
      ],
      "metadata": {
        "colab": {
          "base_uri": "https://localhost:8080/"
        },
        "id": "C6YdZFNB5UWl",
        "outputId": "5bb9eb83-1e49-49f5-d437-ff8dff89ac82"
      },
      "execution_count": null,
      "outputs": [
        {
          "output_type": "stream",
          "name": "stdout",
          "text": [
            "6\n",
            "5\n",
            "15.0\n",
            "5.0\n"
          ]
        }
      ]
    },
    {
      "cell_type": "markdown",
      "source": [
        "### 4.4 Logical Operators\n",
        "- `and`: True if both operands are true (e.g., `x and y`)\n",
        "- `or`: True if either of the operands is true (e.g., `x or y`)\n",
        "- `not`: True if the operand is false (complements the operand) (e.g., `not x`)"
      ],
      "metadata": {
        "id": "b-b24GmX49m2"
      }
    },
    {
      "cell_type": "code",
      "source": [
        "# logical operators example:\n",
        "\n",
        "print(1 == 1 and 2 == 2)\n",
        "print(1 == 1 and 2 == 3)\n",
        "print(1 == 1 or 2 == 2)\n",
        "print(1 == 1 or 2 == 3)\n",
        "print(not 1 == 1)"
      ],
      "metadata": {
        "id": "UUzd12Bm5VCV",
        "colab": {
          "base_uri": "https://localhost:8080/"
        },
        "outputId": "b776bdf5-362d-4f00-bfa5-1dd0aeab8688"
      },
      "execution_count": null,
      "outputs": [
        {
          "output_type": "stream",
          "name": "stdout",
          "text": [
            "True\n",
            "False\n",
            "True\n",
            "True\n",
            "False\n"
          ]
        }
      ]
    },
    {
      "cell_type": "markdown",
      "source": [
        "### 4.5 Membership Operators\n",
        "- `in`: True if value/variable is found in the sequence (e.g., `5 in x`)\n",
        "- `not in`: True if value/variable is not found in the sequence (e.g., `5 not in x`)\n",
        "- **sequence**: string, tuple, list, dictionary"
      ],
      "metadata": {
        "id": "aztKPASl49tr"
      }
    },
    {
      "cell_type": "code",
      "source": [
        "# Membership operators example:\n",
        "\n",
        "string = 'Hello, my name is Joseph'\n",
        "list = [1, 2, 3, 4, 5]\n",
        "dict = {'Name': 'Joseph', 'Age': 31, 'Hair': 'Black'}\n",
        "\n",
        "print('Joseph' in string)\n",
        "print('Joseph' not in string)\n",
        "print(1 in list)\n",
        "print(1 not in list)\n",
        "print('Name' in dict) # checking keys\n",
        "print('Joseph' in dict.values()) # checking values"
      ],
      "metadata": {
        "id": "74-o72x65V4I",
        "colab": {
          "base_uri": "https://localhost:8080/"
        },
        "outputId": "928203e8-35d8-444e-b08a-22e53b15af82"
      },
      "execution_count": null,
      "outputs": [
        {
          "output_type": "stream",
          "name": "stdout",
          "text": [
            "True\n",
            "False\n",
            "True\n",
            "False\n",
            "True\n",
            "True\n"
          ]
        }
      ]
    },
    {
      "cell_type": "markdown",
      "source": [
        "### 4.6 Assignment Operators\n",
        "- `=`: Assigns value (e.g., `x = 5`)\n",
        "- `+=`: Adds right operand to the left operand and assigns the result (e.g., `x += 5` is equivalent to `x = x + 5`)\n",
        "- `-=`: Subtracts right operand from the left operand and assigns the result (e.g., `x -= 5` is equivalent to `x = x - 5`)\n",
        "- `*=`: Multiplies left operand by the right operand and assigns the result (e.g., `x *= 5` is equivalent to `x = x * 5`)\n",
        "- `/=`: Divides left operand by the right operand and assigns the result (e.g., `x /= 5` is equivalent to `x = x / 5`)\n",
        "- `%=`: Takes the modulus using both operands and assigns the result (e.g., `x %= 5` is equivalent to `x = x % 5`)\n",
        "- `//=`: Performs floor division using both operands and assigns the result (e.g., `x //= 5` is equivalent to `x = x // 5`)"
      ],
      "metadata": {
        "id": "ePT06LS049zo"
      }
    },
    {
      "cell_type": "code",
      "source": [
        "# Assignment operators example\n",
        "\n",
        "num1 = 5\n",
        "print(num1 + 5)\n",
        "\n",
        "num2 = 5\n",
        "num2 += 5\n",
        "print(num2)"
      ],
      "metadata": {
        "id": "eMiSl33S5Wp7",
        "colab": {
          "base_uri": "https://localhost:8080/"
        },
        "outputId": "8e31f28a-ebe7-4c2f-b12b-deb7d414e266"
      },
      "execution_count": null,
      "outputs": [
        {
          "output_type": "stream",
          "name": "stdout",
          "text": [
            "10\n",
            "10\n"
          ]
        }
      ]
    },
    {
      "cell_type": "markdown",
      "source": [
        "### 4.7 Identity and Bitwise Operators\n",
        "- `is`: Returns True if both variables point to the same object (e.g., `x is y`)\n",
        "- `is not`: Returns True if variables point to different objects (e.g., `x is not y`)\n",
        "- `&`: Bitwise AND - Sets each bit to 1 if both bits are 1 (e.g., `x & y`)\n",
        "- `|`: Bitwise OR - Sets each bit to 1 if one of the bits is 1 (e.g., `x | y`)\n",
        "- `^`: Bitwise XOR - Sets each bit to 1 if only one of the bits is 1 (e.g., `x ^ y`)\n",
        "- `~`: Bitwise NOT - Inverts all the bits (e.g., `~x`)\n",
        "- `<<`: Bitwise left shift - Shifts bits to the left, filling with zeros (e.g., `x << 2`)\n",
        "- `>>`: Bitwise right shift - Shifts bits to the right, filling with the leftmost bit (e.g., `x >> 2`)"
      ],
      "metadata": {
        "id": "QbfzsR9s495d"
      }
    },
    {
      "cell_type": "code",
      "source": [
        "# Identity operators:\n",
        "  # Used to compare objects, not that they are equal, but to make sure they are the exact same object with the same memory location\n",
        "\n",
        "x = 5\n",
        "y = 5\n",
        "z = x\n",
        "\n",
        "\n",
        "print(x is z) # true as x and z are referencing the same object\n",
        "print(x is y) # false because they are different variables (different location)\n",
        "print (x == y) # true as x and y are the same value"
      ],
      "metadata": {
        "id": "7hBFSXYdnu69",
        "colab": {
          "base_uri": "https://localhost:8080/"
        },
        "outputId": "7b382928-364b-41a4-d534-8a9892ff9fe8"
      },
      "execution_count": null,
      "outputs": [
        {
          "output_type": "stream",
          "name": "stdout",
          "text": [
            "True\n",
            "True\n",
            "True\n"
          ]
        }
      ]
    },
    {
      "cell_type": "code",
      "source": [
        "# Bitwise operators:\n",
        "  # Used to perform bitwise calculations on integers\n",
        "  # Converts it to binary and performs operations bit by bit\n",
        "\n",
        "a = 20\n",
        "b = 5\n",
        "\n",
        "print(bin(a))\n",
        "print(bin(b))\n",
        "print(bin(a & b))\n",
        "print(a & b)"
      ],
      "metadata": {
        "id": "6SnJqWo3rwIW",
        "colab": {
          "base_uri": "https://localhost:8080/"
        },
        "outputId": "bbf606d3-e62a-4618-b98a-58a41454a8c9"
      },
      "execution_count": null,
      "outputs": [
        {
          "output_type": "stream",
          "name": "stdout",
          "text": [
            "0b10100\n",
            "0b101\n",
            "0b100\n",
            "0b100\n",
            "4\n"
          ]
        }
      ]
    },
    {
      "cell_type": "markdown",
      "source": [
        "## 5.0 Statements:"
      ],
      "metadata": {
        "id": "IYB5_q9va34s"
      }
    },
    {
      "cell_type": "markdown",
      "source": [
        "### 5.1 What are statements?\n",
        "- Instruction that Python can execute\n",
        "- **Types of Statements**:\n",
        "  - **Print Statement**: When you type a statement in a cell, Python executes it and displays the result (if there is one)\n",
        "  - **Assignment Statement**: Assigns a value to a variable (e.g., `x = 5`).\n",
        "  - **If Statement**: Executes a block of code if a condition is true (e.g., `if x > 5:`)\n",
        "  - **For Statement**: Iterates over a sequence (like a list or range) and executes a block of code for each item (e.g., `for i in range(5):`)\n",
        "  - **While Statement**: Repeats a block of code as long as a condition is true (e.g., `while x < 10:`)\n",
        "- **Indentation**: Code block starts with indentation and ends with the first unindented line. Four whitespaces are used for indentation and are preferred over tabs\n",
        "\n"
      ],
      "metadata": {
        "id": "p80hKe8gbGG8"
      }
    },
    {
      "cell_type": "markdown",
      "source": [
        "### 5.2 If - Elif - Else Statements\n",
        "- Executes a block of code if a condition is true\n",
        "- If the condition is not true, it carries on to the rest of the code"
      ],
      "metadata": {
        "id": "QSDxebmcbPQh"
      }
    },
    {
      "cell_type": "code",
      "source": [
        "# 5.2.1 Simple if (true) example:\n",
        "\n",
        "if 100 > 10:\n",
        "  print('It worked!')"
      ],
      "metadata": {
        "colab": {
          "base_uri": "https://localhost:8080/"
        },
        "id": "khlkd9-cbzxS",
        "outputId": "0475a752-75cd-45c3-9b27-dd0e546a4fb4"
      },
      "execution_count": null,
      "outputs": [
        {
          "output_type": "stream",
          "name": "stdout",
          "text": [
            "It worked!\n"
          ]
        }
      ]
    },
    {
      "cell_type": "code",
      "source": [
        "# 5.2.1 Simple if (false) example:\n",
        "\n",
        "if 100 < 10:\n",
        "  print('It worked!') # No output as the statement is false"
      ],
      "metadata": {
        "id": "qTa-v5Xnbz0I"
      },
      "execution_count": null,
      "outputs": []
    },
    {
      "cell_type": "code",
      "source": [
        "# 5.2.1 Simple else example:\n",
        "\n",
        "if 100 < 10:\n",
        "  print('It worked!')\n",
        "else:\n",
        "  print('It did not work...')"
      ],
      "metadata": {
        "colab": {
          "base_uri": "https://localhost:8080/"
        },
        "id": "oDVq344-bz3e",
        "outputId": "4e22303a-77ab-44be-80dd-29133fc60e98"
      },
      "execution_count": null,
      "outputs": [
        {
          "output_type": "stream",
          "name": "stdout",
          "text": [
            "It did not work...\n"
          ]
        }
      ]
    },
    {
      "cell_type": "code",
      "source": [
        "# 5.2.2 If Else statement with list\n",
        "  # If the guests are in the invitee list, let them in, if not, don't let them in\n",
        "\n",
        "invitee_list = ['Joseph Choi', 'Alexies Camba', 'Daisy Rumbles Choi']\n",
        "\n",
        "# True\n",
        "if 'Joseph Choi' in invitee_list:\n",
        "  print('Let them in')\n",
        "else:\n",
        "  print('Do not let them in')\n",
        "\n",
        "# False\n",
        "if 'Tony Stark' in invitee_list:\n",
        "  print('Let them in')\n",
        "else:\n",
        "  print('Do not let them in')"
      ],
      "metadata": {
        "colab": {
          "base_uri": "https://localhost:8080/"
        },
        "id": "DYKDrgbKbz7B",
        "outputId": "7e32a734-22f4-4ea5-cf6e-f036f9c245a9"
      },
      "execution_count": null,
      "outputs": [
        {
          "output_type": "stream",
          "name": "stdout",
          "text": [
            "Let them in\n",
            "Do not let them in\n"
          ]
        }
      ]
    },
    {
      "cell_type": "code",
      "source": [
        "# 5.2.3 If Elseif (elif) statement with list\n",
        "  # Use Elseif (elif) if you have multipe else statements\n",
        "\n",
        "price = 59.95\n",
        "\n",
        "if price < 20:\n",
        "  print('low price of: ' +str(price))\n",
        "elif price < 40:\n",
        "  print('medium price: ' +str(price))\n",
        "elif price < 60:\n",
        "  print('high price: ' +str(price))\n",
        "elif price < 80:\n",
        "  print('very high price: ' +str(price))\n",
        "else:\n",
        "  print('do not buy as price is ' +str(price))"
      ],
      "metadata": {
        "colab": {
          "base_uri": "https://localhost:8080/"
        },
        "id": "mUWIDiUabz_A",
        "outputId": "d07dce01-3532-43e4-d165-1a275a28b5a9"
      },
      "execution_count": null,
      "outputs": [
        {
          "output_type": "stream",
          "name": "stdout",
          "text": [
            "low price of:  10\n"
          ]
        }
      ]
    },
    {
      "cell_type": "code",
      "source": [
        "# 5.2.4 If Elseif statement with append and empty lists\n",
        "  # Building out own logic\n",
        "\n",
        "low_price_list = []\n",
        "med_price_list = []\n",
        "high_price_list = []\n",
        "v_high_price_list = []\n",
        "do_not_buy_list = []\n",
        "\n",
        "price = 100\n",
        "\n",
        "if price < 20:\n",
        "  low_price_list.append(price)\n",
        "elif price < 40:\n",
        "  med_price_list.append(price)\n",
        "elif price < 60:\n",
        "  high_price_list.append(price)\n",
        "elif price < 80:\n",
        "  v_high_price_list.append(price)\n",
        "else:\n",
        "  do_not_buy_list.append(price)\n",
        "\n",
        "print('Low Prices: ', low_price_list)\n",
        "print('Medium Prices: ', med_price_list)\n",
        "print('High Prices: ', high_price_list)\n",
        "print('Very High Prices: ', v_high_price_list)\n",
        "print('Do Not Buy Prices: ', do_not_buy_list)"
      ],
      "metadata": {
        "colab": {
          "base_uri": "https://localhost:8080/"
        },
        "id": "w7yuqIqbuStB",
        "outputId": "175149db-57a9-4d83-a9a6-c63342843f93"
      },
      "execution_count": null,
      "outputs": [
        {
          "output_type": "stream",
          "name": "stdout",
          "text": [
            "Low Prices:  []\n",
            "Medium Prices:  []\n",
            "High Prices:  []\n",
            "Very High Prices:  []\n",
            "Do Not Buy Prices:  [100]\n"
          ]
        }
      ]
    },
    {
      "cell_type": "markdown",
      "source": [
        "### 5.3 Nested If Else Statements"
      ],
      "metadata": {
        "id": "AVtcEiWQbPUH"
      }
    },
    {
      "cell_type": "code",
      "source": [
        "# Nested if else statement sample: Grade system\n",
        "  # Use nested if else statements to\n",
        "grade = 81\n",
        "\n",
        "if grade >= 90:\n",
        "  if grade >= 97:\n",
        "    print(str(grade) + '% is A+')\n",
        "  elif grade >= 93:\n",
        "    print(str(grade) + '% is A')\n",
        "  else:\n",
        "    print(str(grade) + '% is A-')\n",
        "elif grade >= 80:\n",
        "  if grade >= 87:\n",
        "    print(str(grade) + '% is B+')\n",
        "  elif grade >= 83:\n",
        "    print(str(grade) + '% is B')\n",
        "  else:\n",
        "    print(str(grade) + '% is B-')"
      ],
      "metadata": {
        "id": "k_6FRBdKb0y6",
        "colab": {
          "base_uri": "https://localhost:8080/"
        },
        "outputId": "a7bab822-ede8-40da-e464-58d5c11ef46a"
      },
      "execution_count": null,
      "outputs": [
        {
          "output_type": "stream",
          "name": "stdout",
          "text": [
            "81% is B-\n"
          ]
        }
      ]
    },
    {
      "cell_type": "markdown",
      "source": [
        "### 5.4 For Loops\n",
        "- Used to iterate over a sequence (such as a list, tuple, string, or range) or other iterable objects\n",
        "- Iterating over a sequence is called traversal\n",
        "- **Syntax**:\n",
        "  - for value in sequence(list, tuple, string, range, etc.):\n",
        "  - body of code"
      ],
      "metadata": {
        "id": "AitQTpx-bPX6"
      }
    },
    {
      "cell_type": "code",
      "source": [
        "# 1.1 For Loop example:\n",
        "\n",
        "list = [1,2,3,4,5]\n",
        "\n",
        "for number in list: # 'number' is a temporary variable\n",
        "  print(number)"
      ],
      "metadata": {
        "id": "mHI_HFpgb1xg",
        "colab": {
          "base_uri": "https://localhost:8080/"
        },
        "outputId": "c4bbeaa3-139d-4662-e432-79974fef6842"
      },
      "execution_count": null,
      "outputs": [
        {
          "output_type": "stream",
          "name": "stdout",
          "text": [
            "1\n",
            "2\n",
            "3\n",
            "4\n",
            "5\n"
          ]
        }
      ]
    },
    {
      "cell_type": "code",
      "source": [
        "# 1.2 For Loop example:\n",
        "\n",
        "list = [1,2,3,4,5]\n",
        "\n",
        "for number in list:\n",
        "  print('Hello!')"
      ],
      "metadata": {
        "id": "CvTy5fX7b12T",
        "colab": {
          "base_uri": "https://localhost:8080/"
        },
        "outputId": "83d0f2ad-5e2a-4ce0-f353-f80be7a5757b"
      },
      "execution_count": null,
      "outputs": [
        {
          "output_type": "stream",
          "name": "stdout",
          "text": [
            "Hello!\n",
            "Hello!\n",
            "Hello!\n",
            "Hello!\n",
            "Hello!\n"
          ]
        }
      ]
    },
    {
      "cell_type": "code",
      "source": [
        "# 1.3 For Loop example:\n",
        "\n",
        "list = [1,2,3,4,5]\n",
        "\n",
        "for number in list:\n",
        "  power_of_number = number ** number\n",
        "  print(power_of_number)"
      ],
      "metadata": {
        "id": "uE8N4zfzb16Y",
        "colab": {
          "base_uri": "https://localhost:8080/"
        },
        "outputId": "3d3e4ed5-fa88-4ec4-888f-0d42bbf508d3"
      },
      "execution_count": null,
      "outputs": [
        {
          "output_type": "stream",
          "name": "stdout",
          "text": [
            "1\n",
            "4\n",
            "27\n",
            "256\n",
            "3125\n"
          ]
        }
      ]
    },
    {
      "cell_type": "code",
      "source": [
        "# 2.1 For Loop example:\n",
        "\n",
        "low_price_list = []\n",
        "med_price_list = []\n",
        "high_price_list = []\n",
        "v_high_price_list = []\n",
        "do_not_buy_list = []\n",
        "\n",
        "price_amount = [10.25, 20.45, 25.66, 30.75, 35.15, 40.47, 45.95, 50.15, 55.66, 60.77, 65.99, 70.11, 75.25, 80.85, 85.65, 90.34, 95.47, 100.99]\n",
        "\n",
        "for price in price_amount:\n",
        "  if price < 20:\n",
        "    low_price_list.append(price)\n",
        "  elif price < 40:\n",
        "    med_price_list.append(price)\n",
        "  elif price < 60:\n",
        "    high_price_list.append(price)\n",
        "  elif price < 80:\n",
        "    v_high_price_list.append(price)\n",
        "  else:\n",
        "    do_not_buy_list.append(price)\n",
        "\n",
        "print('Low Prices: ', low_price_list)\n",
        "print('Medium Prices: ', med_price_list)\n",
        "print('High Prices: ', high_price_list)\n",
        "print('Very High Prices: ', v_high_price_list)\n",
        "print('Do Not Buy Prices: ', do_not_buy_list)"
      ],
      "metadata": {
        "colab": {
          "base_uri": "https://localhost:8080/"
        },
        "id": "In3GTZLuHR8t",
        "outputId": "cb2145fd-7ea2-4d1e-d38e-ece7d7490b7f"
      },
      "execution_count": null,
      "outputs": [
        {
          "output_type": "stream",
          "name": "stdout",
          "text": [
            "Low Prices:  [10.25]\n",
            "Medium Prices:  [20.45, 25.66, 30.75, 35.15]\n",
            "High Prices:  [40.47, 45.95, 50.15, 55.66]\n",
            "Very High Prices:  [60.77, 65.99, 70.11, 75.25]\n",
            "Do Not Buy Prices:  [80.85, 85.65, 90.34, 95.47, 100.99]\n"
          ]
        }
      ]
    },
    {
      "cell_type": "code",
      "source": [
        "# 2.2 For Loop example:\n",
        "  # Counter (i in loops) is a variable used to keep track of the current iteration or index while looping through a sequence, like a list or a range (starts at 0)\n",
        "\n",
        "ice_cream_flavor = ['Chocolate','Vanilla','Strawberry','Pistachio','Coffee','Mint']\n",
        "\n",
        "i = 0\n",
        "\n",
        "for flavor in ice_cream_flavor:\n",
        "  print(i, flavor)\n",
        "  i += 1"
      ],
      "metadata": {
        "colab": {
          "base_uri": "https://localhost:8080/"
        },
        "id": "SEiGkoFtHSDJ",
        "outputId": "fd473a17-22ec-4167-9600-0d142ddcca1e"
      },
      "execution_count": null,
      "outputs": [
        {
          "output_type": "stream",
          "name": "stdout",
          "text": [
            "0 Chocolate\n",
            "1 Vanilla\n",
            "2 Strawberry\n",
            "3 Pistachio\n",
            "4 Coffee\n",
            "5 Mint\n"
          ]
        }
      ]
    },
    {
      "cell_type": "code",
      "source": [
        "# 2.3 For Loop example:\n",
        "  # Enumerate: Adds a counter to an iterable (like a list or tuple) and returns it as an enumerate object\n",
        "  # Allows you to loop through both the index and the value of each item in the iterable\n",
        "\n",
        "ice_cream_flavor = ['Chocolate','Vanilla','Strawberry','Pistachio','Coffee','Mint']\n",
        "\n",
        "for i, flavor in enumerate(ice_cream_flavor):\n",
        "  print(i, flavor)"
      ],
      "metadata": {
        "colab": {
          "base_uri": "https://localhost:8080/"
        },
        "id": "2YgLBRkNHSIY",
        "outputId": "ce94c86e-49b0-4dc9-a4fb-37dfd4765ddf"
      },
      "execution_count": null,
      "outputs": [
        {
          "output_type": "stream",
          "name": "stdout",
          "text": [
            "0 Chocolate\n",
            "1 Vanilla\n",
            "2 Strawberry\n",
            "3 Pistachio\n",
            "4 Coffee\n",
            "5 Mint\n"
          ]
        }
      ]
    },
    {
      "cell_type": "code",
      "source": [
        "# 3.1 For Loop example: Dictionary\n",
        "\n",
        "customer_dictionary = {'Name': 'Joseph Choi', 'Age': 31, 'Hair': 'Black', 'Items Purchased': ['Shovel', 'Dirt']}"
      ],
      "metadata": {
        "id": "cNvIU08zHSM4"
      },
      "execution_count": null,
      "outputs": []
    },
    {
      "cell_type": "code",
      "source": [
        "# 3.1.1 For Loop example:\n",
        "for item in customer_dictionary:\n",
        "  print(item)"
      ],
      "metadata": {
        "colab": {
          "base_uri": "https://localhost:8080/"
        },
        "id": "DjLqUpCnHSRQ",
        "outputId": "d2a15166-c251-410b-debf-15dd8e875d99"
      },
      "execution_count": null,
      "outputs": [
        {
          "output_type": "stream",
          "name": "stdout",
          "text": [
            "Name\n",
            "Age\n",
            "Hair\n",
            "Items Purchased\n"
          ]
        }
      ]
    },
    {
      "cell_type": "code",
      "source": [
        "# 3.1.2 For Loop example:\n",
        "for item in customer_dictionary.items():\n",
        "  print(item)"
      ],
      "metadata": {
        "id": "B87xfYMcb2BA",
        "colab": {
          "base_uri": "https://localhost:8080/"
        },
        "outputId": "7b93a589-3bba-436d-c513-d4154b5733ea"
      },
      "execution_count": null,
      "outputs": [
        {
          "output_type": "stream",
          "name": "stdout",
          "text": [
            "('Name', 'Joseph Choi')\n",
            "('Age', 31)\n",
            "('Hair', 'Black')\n",
            "('Items Purchased', ['Shovel', 'Dirt'])\n"
          ]
        }
      ]
    },
    {
      "cell_type": "code",
      "source": [
        "# 3.1.3 For Loop example:\n",
        "for item in customer_dictionary.keys():\n",
        "  print(item)"
      ],
      "metadata": {
        "colab": {
          "base_uri": "https://localhost:8080/"
        },
        "id": "vGrXEjuZK2AE",
        "outputId": "b924cb6e-9713-4f03-e397-a93e04c33fd0"
      },
      "execution_count": null,
      "outputs": [
        {
          "output_type": "stream",
          "name": "stdout",
          "text": [
            "Name\n",
            "Age\n",
            "Hair\n",
            "Items Purchased\n"
          ]
        }
      ]
    },
    {
      "cell_type": "code",
      "source": [
        "# 3.1.4 For Loop example:\n",
        "for item in customer_dictionary.values():\n",
        "  print(item)"
      ],
      "metadata": {
        "colab": {
          "base_uri": "https://localhost:8080/"
        },
        "id": "ls2qlu3XK2D2",
        "outputId": "c9a3d394-4da3-460d-c245-f52380305740"
      },
      "execution_count": null,
      "outputs": [
        {
          "output_type": "stream",
          "name": "stdout",
          "text": [
            "Joseph Choi\n",
            "31\n",
            "Black\n",
            "['Shovel', 'Dirt']\n"
          ]
        }
      ]
    },
    {
      "cell_type": "code",
      "source": [
        "# 3.1.5 For Loop example:\n",
        "for key, value in customer_dictionary.items():\n",
        "  print(key, '==>', value)"
      ],
      "metadata": {
        "colab": {
          "base_uri": "https://localhost:8080/"
        },
        "id": "tGMO89WFKec3",
        "outputId": "93f54bdc-67cf-4665-b7ac-4c63ce82a8ef"
      },
      "execution_count": null,
      "outputs": [
        {
          "output_type": "stream",
          "name": "stdout",
          "text": [
            "Name ==> Joseph Choi\n",
            "Age ==> 31\n",
            "Hair ==> Black\n",
            "Items Purchased ==> ['Shovel', 'Dirt']\n"
          ]
        }
      ]
    },
    {
      "cell_type": "code",
      "source": [
        "# 4.1 For Loop example: Range\n",
        "\n",
        "divisible_by_three = []\n",
        "divisible_by_five = []\n",
        "\n",
        "for num in range(100): # finding numbers between 0-100 that is divisible by 3 or 5\n",
        "  if num % 3 == 0:\n",
        "    divisible_by_three.append(num)\n",
        "  elif num % 5 == 0:\n",
        "    divisible_by_five.append(num)\n",
        "\n",
        "print('Divisible by Three: ', divisible_by_three)\n",
        "print('Divisible by Five: ', divisible_by_five)"
      ],
      "metadata": {
        "colab": {
          "base_uri": "https://localhost:8080/"
        },
        "id": "Yb5okelxKeha",
        "outputId": "5a9a0189-42c5-4ed6-d1ff-ece54643d4a6"
      },
      "execution_count": null,
      "outputs": [
        {
          "output_type": "stream",
          "name": "stdout",
          "text": [
            "Divisible by Three:  [0, 3, 6, 9, 12, 15, 18, 21, 24, 27, 30, 33, 36, 39, 42, 45, 48, 51, 54, 57, 60, 63, 66, 69, 72, 75, 78, 81, 84, 87, 90, 93, 96, 99]\n",
            "Divisible by Five:  [5, 10, 20, 25, 35, 40, 50, 55, 65, 70, 80, 85, 95]\n"
          ]
        }
      ]
    },
    {
      "cell_type": "markdown",
      "source": [
        "### 5.5 Nested For Loops"
      ],
      "metadata": {
        "id": "3xIJEb0ObPcb"
      }
    },
    {
      "cell_type": "code",
      "source": [
        "# 1.1 Nested For Loops Example:\n",
        "\n",
        "greetings = ['Hey', 'Howdy', 'Hello']\n",
        "\n",
        "x=0 # Adding counters to understand the sequence of the for loop\n",
        "y=0\n",
        "\n",
        "for word in greetings:\n",
        "  x += 1\n",
        "  for letter in word:\n",
        "    print(x, letter, y)\n",
        "    y += 1"
      ],
      "metadata": {
        "id": "VfjtokwJb2qm",
        "colab": {
          "base_uri": "https://localhost:8080/"
        },
        "outputId": "85d6c793-7a2f-4ddf-90d0-3de94cd2cc99"
      },
      "execution_count": null,
      "outputs": [
        {
          "output_type": "stream",
          "name": "stdout",
          "text": [
            "1 H 0\n",
            "1 e 1\n",
            "1 y 2\n",
            "2 H 3\n",
            "2 o 4\n",
            "2 w 5\n",
            "2 d 6\n",
            "2 y 7\n",
            "3 H 8\n",
            "3 e 9\n",
            "3 l 10\n",
            "3 l 11\n",
            "3 o 12\n"
          ]
        }
      ]
    },
    {
      "cell_type": "code",
      "source": [
        "# 1.2 Nested For Loops Example: Actual use case\n",
        "\n",
        "flavors_list = ['Vanilla','Chocolate','Strawberry']\n",
        "toppings_list = ['Nutella','Almond Butter','Peanut Butter']\n",
        "\n",
        "for flavors in flavors_list:\n",
        "  for toppings in toppings_list:\n",
        "    print(flavors, 'topped with', toppings)"
      ],
      "metadata": {
        "id": "N7gmUcsHb2vz",
        "colab": {
          "base_uri": "https://localhost:8080/"
        },
        "outputId": "46a72e58-2c0c-41da-c003-fd5fc78a0861"
      },
      "execution_count": null,
      "outputs": [
        {
          "output_type": "stream",
          "name": "stdout",
          "text": [
            "Vanilla topped with Nutella\n",
            "Vanilla topped with Almond Butter\n",
            "Vanilla topped with Peanut Butter\n",
            "Chocolate topped with Nutella\n",
            "Chocolate topped with Almond Butter\n",
            "Chocolate topped with Peanut Butter\n",
            "Strawberry topped with Nutella\n",
            "Strawberry topped with Almond Butter\n",
            "Strawberry topped with Peanut Butter\n"
          ]
        }
      ]
    },
    {
      "cell_type": "markdown",
      "source": [
        "### 5.6 While Loops\n",
        "- Repeatedly executes a block of code as long as a specified condition remains True"
      ],
      "metadata": {
        "id": "DSbRFSExbPhb"
      }
    },
    {
      "cell_type": "code",
      "source": [
        "# 1.1 While loops example:\n",
        "\n",
        "number = 0\n",
        "\n",
        "while number <= 10:\n",
        "  print(number)\n",
        "  number += 1 #increments the value of number by 1 until it reaches to 10"
      ],
      "metadata": {
        "id": "K9tC2Vekb3hr",
        "colab": {
          "base_uri": "https://localhost:8080/"
        },
        "outputId": "451bb732-d277-434e-afb9-c4aede74aba5"
      },
      "execution_count": null,
      "outputs": [
        {
          "output_type": "stream",
          "name": "stdout",
          "text": [
            "0\n",
            "1\n",
            "2\n",
            "3\n",
            "4\n",
            "5\n",
            "6\n",
            "7\n",
            "8\n",
            "9\n",
            "10\n"
          ]
        }
      ]
    },
    {
      "cell_type": "code",
      "source": [
        "# 1.2 While loops example: Infinite loop (keep running forever)\n",
        "\n",
        "number = 0\n",
        "\n",
        "while number <= 10:\n",
        "  print(number)"
      ],
      "metadata": {
        "id": "TiBS5c0rb3lR"
      },
      "execution_count": null,
      "outputs": []
    },
    {
      "cell_type": "code",
      "source": [
        "# 1.3 While loops example: using it with list\n",
        "\n",
        "  # Counters help to keep track of the current position in the list\n",
        "  # Without a counter, the loop won’t know which element to check or when to stop, potentially causing an infinite loop\n",
        "\n",
        "names_list = ['Joseph','Alexies','Daisy']\n",
        "\n",
        "i = 0 # Initializing counter\n",
        "\n",
        "while names_list[i] != 'Daisy': # Looping until 'Daisy' is found\n",
        "  print(names_list[i]) # Printing current name\n",
        "  i += 1 # Incrementing counter"
      ],
      "metadata": {
        "id": "BKfidgWxb3pd",
        "colab": {
          "base_uri": "https://localhost:8080/"
        },
        "outputId": "1a00383c-aa2a-43be-880b-339e991bad37"
      },
      "execution_count": null,
      "outputs": [
        {
          "output_type": "stream",
          "name": "stdout",
          "text": [
            "Joseph\n",
            "Alexies\n"
          ]
        }
      ]
    },
    {
      "cell_type": "markdown",
      "source": [
        "### 5.7 Break, Continue, Else, Pass\n",
        "- `break`: Exits the loop immediately.\n",
        "- `continue`: Skips the current iteration and moves to the next.\n",
        "- `else`: Runs if the loop completes without hitting a break.\n",
        "- `pass`: Does nothing; acts as a placeholder."
      ],
      "metadata": {
        "id": "F8E_lVKrbPlt"
      }
    },
    {
      "cell_type": "code",
      "source": [
        "# 1.1.1 Break/While example\n",
        "\n",
        "i = 0\n",
        "\n",
        "while i <= 10:\n",
        "  print(i)\n",
        "  if i == 6: # if counter is equal to 6, then break (exit the loop)\n",
        "    break\n",
        "  i += 1"
      ],
      "metadata": {
        "id": "Mlub3ApAb4Zm",
        "colab": {
          "base_uri": "https://localhost:8080/"
        },
        "outputId": "19872400-9e05-4674-e96f-1b0f00e78d39"
      },
      "execution_count": null,
      "outputs": [
        {
          "output_type": "stream",
          "name": "stdout",
          "text": [
            "0\n",
            "1\n",
            "2\n",
            "3\n",
            "4\n",
            "5\n",
            "6\n"
          ]
        }
      ]
    },
    {
      "cell_type": "code",
      "source": [
        "# 1.1.2 Break/While example\n",
        "\n",
        "i = 0\n",
        "\n",
        "while i <= 10:\n",
        "  if i == 6: # placement of the if/break code prevents 6 as output\n",
        "    break\n",
        "  print(i)\n",
        "  i += 1"
      ],
      "metadata": {
        "id": "4ofxh8eab4eC",
        "colab": {
          "base_uri": "https://localhost:8080/"
        },
        "outputId": "308c4d54-4093-478d-c96f-57029af6306a"
      },
      "execution_count": null,
      "outputs": [
        {
          "output_type": "stream",
          "name": "stdout",
          "text": [
            "0\n",
            "1\n",
            "2\n",
            "3\n",
            "4\n",
            "5\n"
          ]
        }
      ]
    },
    {
      "cell_type": "code",
      "source": [
        "# 1.2.1 Break/For example\n",
        "\n",
        "jc_list = [1,2,3,4,5,6,7,8,9,10]\n",
        "\n",
        "for num in jc_list:\n",
        "  power_of_num = num ** num\n",
        "  if power_of_num > 3000: # breaks when the output is greater than 3,000\n",
        "    break\n",
        "  print(power_of_num)"
      ],
      "metadata": {
        "id": "sQV-wBHfb4iM",
        "colab": {
          "base_uri": "https://localhost:8080/"
        },
        "outputId": "1dc4a929-8fb6-412e-cc0d-b0b741828cfb"
      },
      "execution_count": null,
      "outputs": [
        {
          "output_type": "stream",
          "name": "stdout",
          "text": [
            "1\n",
            "4\n",
            "27\n",
            "256\n"
          ]
        }
      ]
    },
    {
      "cell_type": "code",
      "source": [
        "# 2.1.1 Continue/While example\n",
        "\n",
        "i = 0\n",
        "\n",
        "while i < 5:\n",
        "  i += 1\n",
        "  if i == 3:\n",
        "    continue # skip 3 and move on to the iteration\n",
        "  print(i)"
      ],
      "metadata": {
        "colab": {
          "base_uri": "https://localhost:8080/"
        },
        "id": "g2PVD5MZIX6Z",
        "outputId": "83856f93-6fc1-4dc3-aacb-99988b187509"
      },
      "execution_count": null,
      "outputs": [
        {
          "output_type": "stream",
          "name": "stdout",
          "text": [
            "1\n",
            "2\n",
            "4\n",
            "5\n"
          ]
        }
      ]
    },
    {
      "cell_type": "code",
      "source": [
        "# 2.2.1 Continue/For example\n",
        "\n",
        "jc_list = [1,2,3,4,5,6,7,8,9,10]\n",
        "\n",
        "for num in jc_list:\n",
        "  num += 1\n",
        "  if num == 3: # go through the loop but skip 3\n",
        "    continue\n",
        "  print(num)"
      ],
      "metadata": {
        "colab": {
          "base_uri": "https://localhost:8080/"
        },
        "id": "VBa3JGzlIX9E",
        "outputId": "4f79cd7b-00f8-4e96-a8ad-d97fc4a35612"
      },
      "execution_count": null,
      "outputs": [
        {
          "output_type": "stream",
          "name": "stdout",
          "text": [
            "2\n",
            "4\n",
            "5\n",
            "6\n",
            "7\n",
            "8\n",
            "9\n",
            "10\n",
            "11\n"
          ]
        }
      ]
    },
    {
      "cell_type": "code",
      "source": [
        "# 2.2.2 Continue/For example\n",
        "\n",
        "jc_list = [1,2,3,4,5,6,7,8,9,10]\n",
        "\n",
        "for num in jc_list:\n",
        "  num += 1\n",
        "  if num in [3,4,5,6,7]: # using in to bring in more than 1 num to skip\n",
        "    continue\n",
        "  print(num)"
      ],
      "metadata": {
        "colab": {
          "base_uri": "https://localhost:8080/"
        },
        "id": "Td36c0raIX_5",
        "outputId": "91d7fa10-aa4e-483d-ec17-a68b53341bc1"
      },
      "execution_count": null,
      "outputs": [
        {
          "output_type": "stream",
          "name": "stdout",
          "text": [
            "2\n",
            "8\n",
            "9\n",
            "10\n",
            "11\n"
          ]
        }
      ]
    },
    {
      "cell_type": "code",
      "source": [
        "# 2.2.3 Continue/For example\n",
        "\n",
        "jc_list = [1,2,3,4,5,6,7,8,9,10]\n",
        "\n",
        "for num in jc_list:\n",
        "  num += 1\n",
        "  if 3 <= num <= 7: # using in to bring in more than 1 num to skip (between)\n",
        "    continue\n",
        "  print(num)"
      ],
      "metadata": {
        "colab": {
          "base_uri": "https://localhost:8080/"
        },
        "id": "KZxiYY9uIYCj",
        "outputId": "4a124d9c-1ffa-4ae0-cf53-5cd8ee124ae3"
      },
      "execution_count": null,
      "outputs": [
        {
          "output_type": "stream",
          "name": "stdout",
          "text": [
            "2\n",
            "8\n",
            "9\n",
            "10\n",
            "11\n"
          ]
        }
      ]
    },
    {
      "cell_type": "code",
      "source": [
        "# 3.1.1 Else/While example\n",
        "\n",
        "i = 0\n",
        "\n",
        "while i <= 10:\n",
        "  if i == 6.5: # not going to hit 6.5 as i += 1 brings out only whole numbers\n",
        "    break\n",
        "  print(i)\n",
        "  i += 1\n",
        "else:\n",
        "  print('No breaks found...') # else block in while loop runs only if the loop completes without hitting a break"
      ],
      "metadata": {
        "colab": {
          "base_uri": "https://localhost:8080/"
        },
        "id": "YDpFc7Q7IYFj",
        "outputId": "4696f8b9-d2d7-457a-ca72-b9bbd357272b"
      },
      "execution_count": null,
      "outputs": [
        {
          "output_type": "stream",
          "name": "stdout",
          "text": [
            "0\n",
            "1\n",
            "2\n",
            "3\n",
            "4\n",
            "5\n",
            "6\n",
            "7\n",
            "8\n",
            "9\n",
            "10\n",
            "No breaks found...\n"
          ]
        }
      ]
    },
    {
      "cell_type": "code",
      "source": [
        "# 3.2.1 Else/For example\n",
        "\n",
        "jc_list = [1,2,3,4,5,6,7,8,9,10]\n",
        "\n",
        "for num in jc_list:\n",
        "  num_output = num ** num\n",
        "  if num == 5.5: # not going to hit 5.5 as i += 1 brings out only whole numbers\n",
        "    break\n",
        "  print(str(num) + ':', num_output)\n",
        "else:\n",
        "  print('No breaks found') # else block in while loop runs only if the loop completes without hitting a break"
      ],
      "metadata": {
        "colab": {
          "base_uri": "https://localhost:8080/"
        },
        "id": "g8gq_Io2L-tz",
        "outputId": "33a161c9-5ee5-4d1a-99c5-c08f9fa4835d"
      },
      "execution_count": null,
      "outputs": [
        {
          "output_type": "stream",
          "name": "stdout",
          "text": [
            "1: 1\n",
            "2: 4\n",
            "3: 27\n",
            "4: 256\n",
            "5: 3125\n",
            "6: 46656\n",
            "7: 823543\n",
            "8: 16777216\n",
            "9: 387420489\n",
            "10: 10000000000\n",
            "No breaks found\n"
          ]
        }
      ]
    },
    {
      "cell_type": "code",
      "source": [
        "# 4.1.1 Pass/For example\n",
        "\n",
        "jc_list = [1,2,3,4,5,6,7,8,9,10]\n",
        "\n",
        "for num in jc_list:\n",
        "  pass # I don't know what I'm going to write here yet, but I know I will eventually, so I would like to have this here as placeholder"
      ],
      "metadata": {
        "id": "voZRLoLoL-xy"
      },
      "execution_count": null,
      "outputs": []
    },
    {
      "cell_type": "markdown",
      "source": [
        "### 5.8 Nested While Loops\n",
        "- While loop within a while loop\n",
        "- `A break or continue inside the nested while loop will only affect the nested loop, not the outer loop`"
      ],
      "metadata": {
        "id": "-gWYQfFEbPqf"
      }
    },
    {
      "cell_type": "code",
      "source": [
        "# 0.1.1 While Loop review\n",
        "\n",
        "i = 0\n",
        "\n",
        "while i <= 5: # Loop while i <= 10 (end condition)\n",
        "  print(i) # Print the current value of i\n",
        "  i += 1 # Increment i by 1 for the next iteration"
      ],
      "metadata": {
        "id": "-ov2B4-4b5MO",
        "colab": {
          "base_uri": "https://localhost:8080/"
        },
        "outputId": "79bc38a5-8d60-432b-acf7-a17e9e9f15fe"
      },
      "execution_count": null,
      "outputs": [
        {
          "output_type": "stream",
          "name": "stdout",
          "text": [
            "0\n",
            "1\n",
            "2\n",
            "3\n",
            "4\n",
            "5\n"
          ]
        }
      ]
    },
    {
      "cell_type": "code",
      "source": [
        "# 1.1.1 Nested While Loop example\n",
        "\n",
        "i = 0\n",
        "\n",
        "while i <= 5:  # Loop i from 0 to 5\n",
        "  print(str(i) + ' - Outer Loop')  # Print i\n",
        "  nested_i = 0  # Reset nested_i\n",
        "  while nested_i <= 2:  # Loop nested_i from 0 to 2\n",
        "    print(nested_i)  # Print nested_i\n",
        "    nested_i += 1  # Increment nested_i\n",
        "  i += 1  # Increment i"
      ],
      "metadata": {
        "id": "lwweCy1jb5Po",
        "colab": {
          "base_uri": "https://localhost:8080/"
        },
        "outputId": "7294fd52-7921-4f3f-973f-22efbe976422"
      },
      "execution_count": null,
      "outputs": [
        {
          "output_type": "stream",
          "name": "stdout",
          "text": [
            "0 - Outer Loop\n",
            "0\n",
            "1\n",
            "2\n",
            "1 - Outer Loop\n",
            "0\n",
            "1\n",
            "2\n",
            "2 - Outer Loop\n",
            "0\n",
            "1\n",
            "2\n",
            "3 - Outer Loop\n",
            "0\n",
            "1\n",
            "2\n",
            "4 - Outer Loop\n",
            "0\n",
            "1\n",
            "2\n",
            "5 - Outer Loop\n",
            "0\n",
            "1\n",
            "2\n"
          ]
        }
      ]
    },
    {
      "cell_type": "code",
      "source": [
        "# 1.1.2 Nested While Loop/Else example\n",
        "\n",
        "i = 0\n",
        "\n",
        "while i <= 5:\n",
        "  print(str(i) + ': Outer Loop')\n",
        "  nested_i = 0\n",
        "  while nested_i <= 2:\n",
        "    print(nested_i)\n",
        "    nested_i += 1\n",
        "  else:\n",
        "    print('-- Inner While Loop Ended --') # Runs when the inner loop finishes normally\n",
        "  i += 1\n",
        "else: print('-- Outer While Loop Ended --') # Runs when the outer loop finishes normally"
      ],
      "metadata": {
        "id": "Pm-8PxtMb5UZ",
        "colab": {
          "base_uri": "https://localhost:8080/"
        },
        "outputId": "59a7c25b-04e7-4bd6-f5f8-0a7c58ec0335"
      },
      "execution_count": null,
      "outputs": [
        {
          "output_type": "stream",
          "name": "stdout",
          "text": [
            "0: Outer Loop\n",
            "0\n",
            "1\n",
            "2\n",
            "-- Inner While Loop Ended --\n",
            "1: Outer Loop\n",
            "0\n",
            "1\n",
            "2\n",
            "-- Inner While Loop Ended --\n",
            "2: Outer Loop\n",
            "0\n",
            "1\n",
            "2\n",
            "-- Inner While Loop Ended --\n",
            "3: Outer Loop\n",
            "0\n",
            "1\n",
            "2\n",
            "-- Inner While Loop Ended --\n",
            "4: Outer Loop\n",
            "0\n",
            "1\n",
            "2\n",
            "-- Inner While Loop Ended --\n",
            "5: Outer Loop\n",
            "0\n",
            "1\n",
            "2\n",
            "-- Inner While Loop Ended --\n",
            "-- Outer While Loop Ended --\n"
          ]
        }
      ]
    },
    {
      "cell_type": "markdown",
      "source": [
        "### 5.9 List Comprehension\n",
        "-  Concise way to create lists in Python using a single line of code, with an optional condition.\n",
        "- `Syntax`: Expression, Iteration, Condition\n",
        "- `Example`:\n",
        "  - squares = [x**2 for x in range(10) if x % 2 == 0]\n",
        "    - **Expression: x**2** - Defines what to include in the list (squares of x)\n",
        "    - **Iteration: for x in range(10)** - Iterates over values from 0 to 9\n",
        "    - **Condition: if x % 2 == 0** - Includes only x values that are even"
      ],
      "metadata": {
        "id": "qwbOmUP3bPwI"
      }
    },
    {
      "cell_type": "code",
      "source": [
        "# 1.1.1 Non-List Comprehension example (str)\n",
        "\n",
        "ice_cream_flavors = ['basic: chocolate','basic: vanilla','fruit: strawberry','fruit: orange','fruit: apple','fruit: banana']\n",
        "fruit_flavors = []\n",
        "\n",
        "for flavor in ice_cream_flavors:\n",
        "  if 'fruit' in flavor:\n",
        "    fruit_flavors.append(flavor)\n",
        "\n",
        "print(fruit_flavors)"
      ],
      "metadata": {
        "id": "9rUyR7JRb6ND",
        "colab": {
          "base_uri": "https://localhost:8080/"
        },
        "outputId": "b2eca833-3eeb-4b5d-89dc-50399fde842e"
      },
      "execution_count": null,
      "outputs": [
        {
          "output_type": "stream",
          "name": "stdout",
          "text": [
            "['fruit: strawberry', 'fruit: orange', 'fruit: apple', 'fruit: banana']\n"
          ]
        }
      ]
    },
    {
      "cell_type": "code",
      "source": [
        "# 1.1.2 List Comprehension example (str - same output as 1.1.1)\n",
        "\n",
        "fruit_flavors = [flavor for flavor in ice_cream_flavors if 'fruit' in flavor]\n",
        "print(fruit_flavors)"
      ],
      "metadata": {
        "id": "40zhUN_Ab6SQ",
        "colab": {
          "base_uri": "https://localhost:8080/"
        },
        "outputId": "a04f3de5-7e62-4030-8bc5-87bab1e59045"
      },
      "execution_count": null,
      "outputs": [
        {
          "output_type": "stream",
          "name": "stdout",
          "text": [
            "['fruit: strawberry', 'fruit: orange', 'fruit: apple', 'fruit: banana']\n"
          ]
        }
      ]
    },
    {
      "cell_type": "code",
      "source": [
        "# 1.2.1 List Comprehension (int)\n",
        "\n",
        "jc_list = [x**2 for x in range(10) if x % 2 == 0]\n",
        "print(jc_list)"
      ],
      "metadata": {
        "id": "MUnCYyoOb6Zn",
        "colab": {
          "base_uri": "https://localhost:8080/"
        },
        "outputId": "e30a50f1-6116-4f48-b169-b9ad954d8e57"
      },
      "execution_count": null,
      "outputs": [
        {
          "output_type": "stream",
          "name": "stdout",
          "text": [
            "[0, 4, 16, 36, 64]\n"
          ]
        }
      ]
    }
  ]
}