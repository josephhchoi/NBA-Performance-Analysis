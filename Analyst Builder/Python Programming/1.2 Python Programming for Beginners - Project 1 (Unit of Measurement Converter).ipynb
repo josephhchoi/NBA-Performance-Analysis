{
  "nbformat": 4,
  "nbformat_minor": 0,
  "metadata": {
    "colab": {
      "provenance": []
    },
    "kernelspec": {
      "name": "python3",
      "display_name": "Python 3"
    },
    "language_info": {
      "name": "python"
    }
  },
  "cells": [
    {
      "cell_type": "markdown",
      "source": [
        "# Analyst Builder: Python Programming for Beginners - Project 1"
      ],
      "metadata": {
        "id": "Hn63eJ-NRjNk"
      }
    },
    {
      "cell_type": "markdown",
      "source": [
        "## Unit of Measurement Converter"
      ],
      "metadata": {
        "id": "f5mJ9FIwR7OB"
      }
    },
    {
      "cell_type": "code",
      "execution_count": null,
      "metadata": {
        "colab": {
          "base_uri": "https://localhost:8080/"
        },
        "id": "O5walaKjRiV8",
        "outputId": "5d378d52-07f0-43af-fec2-db1f1f4453c6"
      },
      "outputs": [
        {
          "name": "stdout",
          "output_type": "stream",
          "text": [
            "Enter Starting Unit of Measurement (in, ft, yd): in\n",
            "Enter Unit of Measurement to Convert to (in, ft, yd): ft\n",
            "Enter Starting Measurement in Inches: 24\n",
            "Enter Starting Measurement in Feet: 3\n",
            "Enter Starting Measurement in Yards: 1\n"
          ]
        }
      ],
      "source": [
        "# Phase 1: Creating Inputs:\n",
        "\n",
        "  # input():\n",
        "    # Function that prompts the user for text input and returns it as a string\n",
        "    # Syntax: input(\"Prompt message: \")\n",
        "    # Importatnt to note that output is a string\n",
        "\n",
        "convert_from = input(\"Enter Starting Unit of Measurement (in, ft, yd): \")\n",
        "\n",
        "convert_to = input(\"Enter Unit of Measurement to Convert to (in, ft, yd): \")\n",
        "\n",
        "number_of_inches = input(\"Enter Starting Measurement in Inches: \")\n",
        "\n",
        "number_of_feet = input(\"Enter Starting Measurement in Feet: \")\n",
        "\n",
        "number_of_yards = input(\"Enter Starting Measurement in Yards: \")"
      ]
    },
    {
      "cell_type": "code",
      "source": [
        "# Phase 2: Adding logic to the Inputs\n",
        "\n",
        "  # Writing codes to calculate and convert units based on user input\n",
        "  # Ensuring each input corresponds to the correct conversion formula for each unit type\n",
        "\n",
        "# Input: Initial prompt\n",
        "\n",
        "convert_from = input(\"Enter Starting Unit of Measurement (in, ft, yd): \")\n",
        "convert_to = input(\"Enter Unit of Measurement to Convert to (in, ft, yd): \")\n",
        "\n",
        "# Logic:\n",
        "  # Identifying starting unit type and prompt for the corresponding measurement based on the user's input\n",
        "  # Based on input, apply the right conversion block of code (if statements) and print output\n",
        "\n",
        "if convert_from.lower() in ['in','inch','inches']: # from in to ft, yd\n",
        "  number_of_inches = int(input(\"Enter Starting Measurement in Inches: \"))\n",
        "  if convert_to.lower() in ['ft','feet','foot']:\n",
        "    print('Result:', number_of_inches, 'In', '=', round(number_of_inches / 3,2), 'Ft')\n",
        "  elif convert_to.lower() in ['yd','yard','yards']:\n",
        "    print('Result:', number_of_inches, 'In', '=', round(number_of_inches / 36,2), 'Yd')\n",
        "  else:\n",
        "    print(\"Warning: Invalid unit of measurement entered\") # Warning prompt when convert_to input is inputted incorrectly\n",
        "elif convert_from == 'ft': # from ft to in, yd\n",
        "  number_of_feet = int(input(\"Enter Starting Measurement in Feet: \"))\n",
        "  if convert_to.lower() in ['in','inch','inches']:\n",
        "    print('Result:', number_of_feet, 'Ft', '=', number_of_feet * 12, 'In')\n",
        "  elif convert_to.lower() in ['yd','yard','yards']:\n",
        "    print('Result:', number_of_feet, 'Ft', '=', round(number_of_feet / 3,2), 'Yd')\n",
        "  else:\n",
        "    print(\"Warning: Invalid unit of measurement entered\")\n",
        "elif convert_from == 'yd': # from yd to in, ft\n",
        "  number_of_yards = int(input(\"Enter Starting Measurement in Yards: \"))\n",
        "  if convert_to.lower() in ['in','inch','inches']:\n",
        "    print('Result:', number_of_yards, 'Yd', '=', number_of_yards * 36, 'In')\n",
        "  elif convert_to.lower() in ['ft','feet','foot']:\n",
        "    print('Result:', number_of_yards, 'Yd', '=', number_of_yards * 3, 'Ft')\n",
        "  else:\n",
        "    \"Warning: Invalid unit of measurement entered\"\n",
        "else:\n",
        "  print(\"Warning: Invalid unit of measurement entered\") # Warning prompt when convert_from input is inputted incorrectly"
      ],
      "metadata": {
        "colab": {
          "base_uri": "https://localhost:8080/"
        },
        "id": "rPvkMi60TmBj",
        "outputId": "b1b52b4a-16f6-45f2-ef4f-8dbeda84bea7"
      },
      "execution_count": null,
      "outputs": [
        {
          "output_type": "stream",
          "name": "stdout",
          "text": [
            "Enter Starting Unit of Measurement (in, ft, yd): inches\n",
            "Enter Unit of Measurement to Convert to (in, ft, yd): yard\n",
            "Enter Starting Measurement in Inches: 100\n",
            "Result: 100 In = 2.78 Yd\n"
          ]
        }
      ]
    },
    {
      "cell_type": "code",
      "source": [
        "# Phase 3: Adding \"Try & Except\" for incorrect number output\n",
        "\n",
        "# Try & Except:\n",
        "  # Used to handle errors\n",
        "  # Code in try runs first; if an error occurs, the code in except runs instead, preventing program crashes\n",
        "\n",
        "convert_from = input(\"Enter Starting Unit of Measurement (in, ft, yd): \")\n",
        "convert_to = input(\"Enter Unit of Measurement to Convert to (in, ft, yd): \")\n",
        "\n",
        "if convert_from.lower() in ['in','inch','inches']:\n",
        "  try:\n",
        "    number_of_inches = int(input(\"Enter Starting Measurement in Inches: \"))\n",
        "    if convert_to.lower() in ['ft','feet','foot']:\n",
        "      print('Result:', number_of_inches, 'In', '=', round(number_of_inches / 3,2), 'Ft')\n",
        "    elif convert_to.lower() in ['yd','yard','yards']:\n",
        "      print('Result:', number_of_inches, 'In', '=', round(number_of_inches / 36,2), 'Yd')\n",
        "    else:\n",
        "      print(\"Warning: Invalid unit of measurement entered\")\n",
        "  except ValueError:\n",
        "    print('Warning: Invalid number entered') # Warning prompt when number input is inputted incorrectly\n",
        "elif convert_from == 'ft':\n",
        "  try:\n",
        "    number_of_feet = int(input(\"Enter Starting Measurement in Feet: \"))\n",
        "    if convert_to.lower() in ['in','inch','inches']:\n",
        "      print('Result:', number_of_feet, 'Ft', '=', number_of_feet * 12, 'In')\n",
        "    elif convert_to.lower() in ['yd','yard','yards']:\n",
        "      print('Result:', number_of_feet, 'Ft', '=', round(number_of_feet / 3,2), 'Yd')\n",
        "    else:\n",
        "      print(\"Warning: Invalid unit of measurement entered\")\n",
        "  except ValueError:\n",
        "    print('Warning: Invalid number entered')\n",
        "elif convert_from == 'yd':\n",
        "  try:\n",
        "    number_of_yards = int(input(\"Enter Starting Measurement in Yards: \"))\n",
        "    if convert_to.lower() in ['in','inch','inches']:\n",
        "      print('Result:', number_of_yards, 'Yd', '=', number_of_yards * 36, 'In')\n",
        "    elif convert_to.lower() in ['ft','feet','foot']:\n",
        "      print('Result:', number_of_yards, 'Yd', '=', number_of_yards * 3, 'Ft')\n",
        "    else:\n",
        "      \"Warning: Invalid unit of measurement entered\"\n",
        "  except ValueError:\n",
        "    print('Warning: Invalid number entered')\n",
        "else:\n",
        "  print(\"Warning: Invalid unit of measurement entered\")"
      ],
      "metadata": {
        "colab": {
          "base_uri": "https://localhost:8080/"
        },
        "id": "sdQTbOs1V5LF",
        "outputId": "e8859f51-7956-4fe3-c4a5-2f9cb1d65f4b"
      },
      "execution_count": null,
      "outputs": [
        {
          "output_type": "stream",
          "name": "stdout",
          "text": [
            "Enter Starting Unit of Measurement (in, ft, yd): in\n",
            "Enter Unit of Measurement to Convert to (in, ft, yd): ft\n",
            "Enter Starting Measurement in Inches: hello\n",
            "Warning: Invalid number entered\n"
          ]
        }
      ]
    }
  ]
}