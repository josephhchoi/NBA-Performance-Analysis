{
  "nbformat": 4,
  "nbformat_minor": 0,
  "metadata": {
    "colab": {
      "provenance": []
    },
    "kernelspec": {
      "name": "python3",
      "display_name": "Python 3"
    },
    "language_info": {
      "name": "python"
    }
  },
  "cells": [
    {
      "cell_type": "markdown",
      "source": [
        "# Analyst Builder: Python Programming for Beginners - Project 2"
      ],
      "metadata": {
        "id": "8epLPUtVhUyB"
      }
    },
    {
      "cell_type": "markdown",
      "source": [
        "## Calculator Project"
      ],
      "metadata": {
        "id": "RP27um1tha19"
      }
    },
    {
      "cell_type": "code",
      "execution_count": null,
      "metadata": {
        "id": "_IlJuIj2hKqQ"
      },
      "outputs": [],
      "source": [
        "# Phase 1: Creating Addition, Subtraction, Multiplication, and Division Functions\n",
        "\n",
        "  # User will input 2 values into calculator\n",
        "  # Goal is to reuse these functions\n",
        "\n",
        "def add(x,y):\n",
        "  return x + y\n",
        "\n",
        "def subtract(x,y):\n",
        "  return x - y\n",
        "\n",
        "def multiply(x,y):\n",
        "  return x * y\n",
        "\n",
        "def divide(x,y):\n",
        "  return x / y"
      ]
    },
    {
      "cell_type": "code",
      "source": [
        "# Phase 2: Creating Inputs and Creating Basic Logic\n",
        "\n",
        "choice = input('Enter choice (Add, Sub, Mult, Div): ')\n",
        "num1 = float(input('Enter 1st number: '))\n",
        "num2 = float(input('Enter 2nd number: '))\n",
        "\n",
        "\n",
        "if choice in ('Add','Sub','Mult','Div'):\n",
        "    if choice == 'Add':\n",
        "      print('Output:', add(num1, num2))\n",
        "    elif choice == 'Sub':\n",
        "      print('Output:', subtract(num1, num2))\n",
        "    elif choice == 'Mult':\n",
        "      print('Output:', multiply(num1, num2))\n",
        "    elif choice == 'Div':\n",
        "      print('Output:', divide(num1, num2))"
      ],
      "metadata": {
        "colab": {
          "base_uri": "https://localhost:8080/"
        },
        "id": "p_vgGrBynzKP",
        "outputId": "69e9d853-95c2-4c1f-c91c-9240dbcb0b68"
      },
      "execution_count": null,
      "outputs": [
        {
          "output_type": "stream",
          "name": "stdout",
          "text": [
            "Enter choice (Add, Sub, Mult, Div): Div\n",
            "Enter 1st number: 100\n",
            "Enter 2nd number: 50\n",
            "Output: 2.0\n"
          ]
        }
      ]
    },
    {
      "cell_type": "code",
      "source": [
        "# Phase 3: Enhancing code/logic to be more advanced\n",
        "\n",
        "print('Instruction:') # adding instructions before input prompt to encourage correct entry\n",
        "print(\"- Please enter 'Add' for Addition\")\n",
        "print(\"- Please enter 'Sub' for Subtraction\")\n",
        "print(\"- Please enter 'Mult' for Multiplication\")\n",
        "print(\"- Please enter 'Div' for Division \\n\")\n",
        "\n",
        "while True: # starting a while loop for repeated calculation\n",
        "\n",
        "  choice = input('Enter choice (Add, Sub, Mult, Div): ')\n",
        "\n",
        "  if choice.upper() in ('ADD','SUB','MULT','DIV'): # if the choice is either A/S/M/D, bring input prompts\n",
        "    try:\n",
        "      num1 = float(input('Enter 1st number: '))\n",
        "      num2 = float(input('Enter 2nd number: '))\n",
        "    except ValueError:\n",
        "      print('Warning: Invalid Entry (Please enter int or float)') # if entry is not an int or float, add this warning sign\n",
        "\n",
        "    if choice.upper() == 'ADD':\n",
        "        print('\\nOutput:', num1, '+', num2, '=', add(num1, num2))\n",
        "\n",
        "    elif choice.upper() == 'SUB':\n",
        "      print('\\nOutput:', num1, '-', num2, '=', subtract(num1, num2))\n",
        "\n",
        "    elif choice.upper() == 'MULT':\n",
        "      print('\\nOutput:', num1, 'x', num2, '=', multiply(num1, num2))\n",
        "\n",
        "    elif choice.upper() == 'DIV':\n",
        "      print('\\nOutput:', num1, '/', num2, '=', divide(num1, num2))\n",
        "\n",
        "  else:\n",
        "    print('Warning: Invalid Entry (Please enter Add, Sub, Mult, or Div)') # if the choice is not A/S/M/D, bring warning message\n",
        "\n",
        "  next_calculation = input('\\nWould you like to make another calculation? (Yes/No): ') # prompt for continuation of calculations\n",
        "  if next_calculation.upper() == 'NO': # exit loop if user inputs 'No'\n",
        "    break"
      ],
      "metadata": {
        "colab": {
          "base_uri": "https://localhost:8080/"
        },
        "id": "gKnxPMGyihx1",
        "outputId": "7516a733-53fe-4206-d10d-7e3a1e495fed"
      },
      "execution_count": null,
      "outputs": [
        {
          "name": "stdout",
          "output_type": "stream",
          "text": [
            "Instruction:\n",
            "- Please enter 'Add' for Addition\n",
            "- Please enter 'Sub' for Subtraction\n",
            "- Please enter 'Mult' for Multiplication\n",
            "- Please enter 'Div' for Division \n",
            "\n",
            "Enter choice (Add, Sub, Mult, Div): Add\n",
            "Enter 1st number: 50\n",
            "Enter 2nd number: 5\n",
            "\n",
            "Output: 50.0 + 5.0 = 55.0\n",
            "\n",
            "Would you like to make another calculation? (Yes/No): No\n"
          ]
        }
      ]
    }
  ]
}